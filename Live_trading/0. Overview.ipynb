{
 "cells": [
  {
   "cell_type": "markdown",
   "id": "fde167e7",
   "metadata": {},
   "source": [
    "# Import packages"
   ]
  },
  {
   "cell_type": "code",
   "execution_count": 1,
   "id": "e4670109-8321-4742-a46d-72808f3dc4af",
   "metadata": {},
   "outputs": [],
   "source": [
    "import MetaTrader5 as mt\n",
    "import pandas as pd\n",
    "import ml_collections\n",
    "import yaml\n",
    "\n",
    "from datetime import datetime\n",
    "import pytz\n",
    "import sys\n",
    "\n",
    "sys.path.insert(0, 'D:/Intraday_trading')\n",
    "from src.support import *\n",
    "\n",
    "import time\n",
    "from IPython.display import clear_output"
   ]
  },
  {
   "cell_type": "code",
   "execution_count": 2,
   "id": "66da7571",
   "metadata": {},
   "outputs": [],
   "source": [
    "config_dir = 'D:/Intraday_trading/configs/config.yaml'\n",
    "with open(config_dir) as file:\n",
    "    config = ml_collections.ConfigDict(yaml.safe_load(file))\n"
   ]
  },
  {
   "cell_type": "code",
   "execution_count": 3,
   "id": "09a6e87f",
   "metadata": {},
   "outputs": [],
   "source": [
    "acc_config = config.real_acc"
   ]
  },
  {
   "cell_type": "markdown",
   "id": "b2da60c1-4c84-4a8b-81c1-f686d9f71034",
   "metadata": {},
   "source": [
    "# Login account"
   ]
  },
  {
   "cell_type": "code",
   "execution_count": 4,
   "id": "f575800c",
   "metadata": {},
   "outputs": [],
   "source": [
    "login_metatrader(acc_config = acc_config)"
   ]
  },
  {
   "cell_type": "markdown",
   "id": "7d0f38be",
   "metadata": {},
   "source": [
    "# Deals monitor "
   ]
  },
  {
   "cell_type": "code",
   "execution_count": null,
   "id": "2f901b5f",
   "metadata": {},
   "outputs": [],
   "source": [
    "from_date=datetime(2024,1,1)\n",
    "to_date=datetime.now()\n",
    "# get deals for symbols whose names contain \"XAUUSDm\" within a specified interval\n",
    "deals = mt.history_deals_get(from_date, to_date, group=\"*\")\n",
    "\n",
    "df_deals = pd.DataFrame(deals, columns = deals[0]._asdict().keys())\n",
    "\n",
    "df_deals['time'] = pd.to_datetime(df_deals['time'], unit = 's')\n",
    "df_deals['time_msc'] = pd.to_datetime(df_deals['time_msc'], unit = 'ms')\n",
    "\n",
    "df_deals['VN_time'] = df_deals['time'] + pd.Timedelta('7 hours')\n",
    "df_deals['VN_time_msc'] = df_deals['time_msc'] + pd.Timedelta('7 hours')\n"
   ]
  },
  {
   "cell_type": "code",
   "execution_count": null,
   "id": "494c6d34",
   "metadata": {},
   "outputs": [],
   "source": [
    "ref_deals_entry = pd.read_csv('D:/Intraday_trading/src/ref_tables/ref_deals_entry.csv', encoding_errors = 'ignore')\n",
    "ref_deals_reason = pd.read_csv('D:/Intraday_trading/src/ref_tables/ref_deals_reason.csv', encoding_errors = 'ignore')\n",
    "ref_deals_type = pd.read_csv('D:/Intraday_trading/src/ref_tables/ref_deals_type.csv', encoding_errors = 'ignore')\n"
   ]
  },
  {
   "cell_type": "code",
   "execution_count": null,
   "id": "b9a28446",
   "metadata": {},
   "outputs": [],
   "source": [
    "df_deals = df_deals.merge(ref_deals_entry, how = 'left', left_on = 'type', right_on = ref_deals_entry.index)\n",
    "df_deals = df_deals.merge(ref_deals_reason, how = 'left', left_on = 'type', right_on = ref_deals_reason.index)\n",
    "df_deals = df_deals.merge(ref_deals_type, how = 'left', left_on = 'type', right_on = ref_deals_type.index)"
   ]
  },
  {
   "cell_type": "code",
   "execution_count": null,
   "id": "1902edf1",
   "metadata": {},
   "outputs": [],
   "source": [
    "df_deals.tail(6)"
   ]
  },
  {
   "cell_type": "markdown",
   "id": "17831e96",
   "metadata": {},
   "source": [
    "# Orders monitor"
   ]
  },
  {
   "cell_type": "code",
   "execution_count": null,
   "id": "51f582e6",
   "metadata": {},
   "outputs": [],
   "source": [
    "# from_date=datetime(2024,6,15)\n",
    "# to_date=datetime.now()\n",
    "# # get deals for symbols whose names contain \"XAUUSDm\" within a specified interval\n",
    "# orders = mt.history_orders_get(from_date, to_date, group=\"*XAUUSDm*\")\n",
    "\n",
    "# df_orders = pd.DataFrame(orders, columns = orders[0]._asdict().keys())\n",
    "# df_orders['time_setup'] = pd.to_datetime(df_orders['time_setup'], unit = 's')\n",
    "# df_orders['VN_time'] = df_orders['time_setup'] + pd.Timedelta('7 hours')"
   ]
  },
  {
   "cell_type": "code",
   "execution_count": null,
   "id": "94378cfd",
   "metadata": {},
   "outputs": [],
   "source": [
    "# df_orders"
   ]
  },
  {
   "cell_type": "markdown",
   "id": "795a0198-a92a-4e72-b808-8ede67a0af04",
   "metadata": {},
   "source": [
    "# Data"
   ]
  },
  {
   "cell_type": "markdown",
   "id": "8f930dea-3512-43b0-8896-ac09c56a8193",
   "metadata": {},
   "source": [
    "## OHLCV interval data"
   ]
  },
  {
   "cell_type": "code",
   "execution_count": null,
   "id": "034bf9c7-9b1f-4584-887f-431d1c8654db",
   "metadata": {},
   "outputs": [],
   "source": [
    "# Compute now date\n",
    "from_date = datetime(2001, 1, 1)\n",
    "to_date = datetime(2024, 4, 11)\n",
    "\n",
    "\n",
    "rates = mt.copy_rates_range(\"EURUSDm\", mt.TIMEFRAME_M1, from_date, to_date)\n",
    "df_rates = pd.DataFrame(rates)\n",
    "\n",
    "df_rates[\"time\"] = pd.to_datetime(df_rates[\"time\"], unit=\"s\")\n",
    "print(df_rates['time'][0])\n",
    "\n",
    "\n",
    "\n",
    "rates = mt.copy_rates_range(\"EURUSDm\", mt.TIMEFRAME_M5, from_date, to_date)\n",
    "df_rates = pd.DataFrame(rates)\n",
    "\n",
    "df_rates[\"time\"] = pd.to_datetime(df_rates[\"time\"], unit=\"s\")\n",
    "print(df_rates['time'][0])\n",
    "\n",
    "\n",
    "\n",
    "rates = mt.copy_rates_range(\"EURUSDm\", mt.TIMEFRAME_M15, from_date, to_date)\n",
    "df_rates = pd.DataFrame(rates)\n",
    "\n",
    "df_rates[\"time\"] = pd.to_datetime(df_rates[\"time\"], unit=\"s\")\n",
    "print(df_rates['time'][0])\n",
    "\n",
    "\n",
    "\n",
    "rates = mt.copy_rates_range(\"EURUSDm\", mt.TIMEFRAME_H1, from_date, to_date)\n",
    "df_rates = pd.DataFrame(rates)\n",
    "\n",
    "df_rates[\"time\"] = pd.to_datetime(df_rates[\"time\"], unit=\"s\")\n",
    "print(df_rates['time'][0])\n",
    "\n",
    "\n",
    "\n",
    "rates = mt.copy_rates_range(\"EURUSDm\", mt.TIMEFRAME_D1, from_date, to_date)\n",
    "df_rates = pd.DataFrame(rates)\n",
    "\n",
    "df_rates[\"time\"] = pd.to_datetime(df_rates[\"time\"], unit=\"s\")\n",
    "print(df_rates['time'][0])"
   ]
  },
  {
   "cell_type": "markdown",
   "id": "89e2f623-b031-441a-80cd-b61441ac6817",
   "metadata": {},
   "source": [
    "## Ticks data"
   ]
  },
  {
   "cell_type": "code",
   "execution_count": null,
   "id": "ec239c26-9e36-44cc-b22e-2eb640ce2e07",
   "metadata": {},
   "outputs": [],
   "source": [
    "# https://thiagomarzagao.com/2021/05/12/mt5/"
   ]
  },
  {
   "cell_type": "code",
   "execution_count": null,
   "id": "04e1ba37-9e06-4546-ba45-3ba38aa2d224",
   "metadata": {},
   "outputs": [],
   "source": [
    "# Compute now date\n",
    "from_date = datetime(2020, 4, 10)\n",
    "to_date = datetime(2024, 4, 11)\n",
    "\n",
    "# Extract n Ticks before now\n",
    "ticks = mt.copy_ticks_range(\"EURUSDm\", from_date, to_date, mt.COPY_TICKS_ALL)\n",
    "\n",
    "# Transform Tuple into a DataFrame\n",
    "df_ticks = pd.DataFrame(ticks)\n",
    "\n",
    "# Convert number format of the date into date format\n",
    "df_ticks[\"time\"] = pd.to_datetime(df_ticks[\"time\"], unit=\"s\")\n",
    "\n",
    "\n",
    "df_ticks"
   ]
  },
  {
   "cell_type": "code",
   "execution_count": null,
   "id": "75b2828b-9985-46f5-ac48-993fe97f0e7a",
   "metadata": {},
   "outputs": [],
   "source": []
  }
 ],
 "metadata": {
  "kernelspec": {
   "display_name": "Python 3 (ipykernel)",
   "language": "python",
   "name": "python3"
  },
  "language_info": {
   "codemirror_mode": {
    "name": "ipython",
    "version": 3
   },
   "file_extension": ".py",
   "mimetype": "text/x-python",
   "name": "python",
   "nbconvert_exporter": "python",
   "pygments_lexer": "ipython3",
   "version": "3.8.10"
  }
 },
 "nbformat": 4,
 "nbformat_minor": 5
}
