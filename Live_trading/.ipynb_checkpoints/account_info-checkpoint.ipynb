{
 "cells": [
  {
   "cell_type": "markdown",
   "id": "b2da60c1-4c84-4a8b-81c1-f686d9f71034",
   "metadata": {},
   "source": [
    "# Login account"
   ]
  },
  {
   "cell_type": "code",
   "execution_count": 1,
   "id": "e4670109-8321-4742-a46d-72808f3dc4af",
   "metadata": {},
   "outputs": [],
   "source": [
    "import MetaTrader5 as mt\n",
    "import pandas as pd"
   ]
  },
  {
   "cell_type": "code",
   "execution_count": 2,
   "id": "af43dedf-679a-4632-8fcd-50c99f715c77",
   "metadata": {},
   "outputs": [],
   "source": [
    "# mt??"
   ]
  },
  {
   "cell_type": "code",
   "execution_count": 3,
   "id": "ca01c376-602f-44cb-804c-c638bb3a2d2b",
   "metadata": {},
   "outputs": [
    {
     "name": "stdout",
     "output_type": "stream",
     "text": [
      "MetaTrader5 package author:  MetaQuotes Ltd.\n",
      "MetaTrader5 package version:  5.0.4200\n"
     ]
    }
   ],
   "source": [
    "from datetime import datetime\n",
    "# display data on the MetaTrader 5 package\n",
    "print(\"MetaTrader5 package author: \",mt.__author__)\n",
    "print(\"MetaTrader5 package version: \",mt.__version__)\n",
    " \n",
    "# import the 'pandas' module for displaying data obtained in the tabular form\n",
    "pd.set_option('display.max_columns', 500) # number of columns to be displayed\n",
    "pd.set_option('display.width', 1500)      # max table width to display\n",
    "# import pytz module for working with time zone\n",
    "import pytz"
   ]
  },
  {
   "cell_type": "code",
   "execution_count": 4,
   "id": "ed834f2f-d93b-431d-b379-0f0ee5618d03",
   "metadata": {},
   "outputs": [
    {
     "data": {
      "text/plain": [
       "True"
      ]
     },
     "execution_count": 4,
     "metadata": {},
     "output_type": "execute_result"
    }
   ],
   "source": [
    "mt.shutdown()"
   ]
  },
  {
   "cell_type": "code",
   "execution_count": 5,
   "id": "034cacf5-2f85-4c2c-b3e8-46f4fc2e6c8c",
   "metadata": {},
   "outputs": [
    {
     "data": {
      "text/plain": [
       "True"
      ]
     },
     "execution_count": 5,
     "metadata": {},
     "output_type": "execute_result"
    }
   ],
   "source": [
    "login = 148135748\n",
    "password = 'Codeptrai0!'\n",
    "server = 'Exness-MT5Real18'\n",
    " \n",
    "# runs MetaTrader5 client\n",
    "# MetaTrader5 platform must be installed\n",
    "mt.initialize(path = 'C:/Program Files/MetaTrader 5/terminal64.exe',\n",
    "              login = login,\n",
    "              password = password,\n",
    "              server = server\n",
    "             )\n",
    " "
   ]
  },
  {
   "cell_type": "code",
   "execution_count": 6,
   "id": "0291b29f-be1c-44e3-81b8-8cea49e9d54f",
   "metadata": {},
   "outputs": [
    {
     "data": {
      "text/plain": [
       "(1, 'Success')"
      ]
     },
     "execution_count": 6,
     "metadata": {},
     "output_type": "execute_result"
    }
   ],
   "source": [
    "mt.last_error()"
   ]
  },
  {
   "cell_type": "code",
   "execution_count": 7,
   "id": "9139d963-8d5f-408d-9e29-1ccb402f0e21",
   "metadata": {},
   "outputs": [
    {
     "data": {
      "text/plain": [
       "True"
      ]
     },
     "execution_count": 7,
     "metadata": {},
     "output_type": "execute_result"
    }
   ],
   "source": [
    "# log in to trading account\n",
    "mt.login(login, password, server) "
   ]
  },
  {
   "cell_type": "code",
   "execution_count": 8,
   "id": "236cf402-d5e8-4e0e-bd52-fae53d0ec13f",
   "metadata": {},
   "outputs": [
    {
     "data": {
      "text/plain": [
       "AccountInfo(login=148135748, trade_mode=2, leverage=100, limit_orders=0, margin_so_mode=0, trade_allowed=True, trade_expert=True, margin_mode=2, currency_digits=2, fifo_close=False, balance=1569.46, credit=0.0, profit=0.0, equity=1569.46, margin=0.0, margin_free=1569.46, margin_level=0.0, margin_so_call=60.0, margin_so_so=0.0, margin_initial=0.0, margin_maintenance=0.0, assets=0.0, liabilities=0.0, commission_blocked=0.0, name='Client', server='Exness-MT5Real18', currency='USD', company='Exness Technologies Ltd')"
      ]
     },
     "execution_count": 8,
     "metadata": {},
     "output_type": "execute_result"
    }
   ],
   "source": [
    "mt.account_info()"
   ]
  },
  {
   "cell_type": "code",
   "execution_count": 9,
   "id": "1517ea63-dc1d-4eef-8edf-6023de80cb03",
   "metadata": {},
   "outputs": [
    {
     "data": {
      "text/plain": [
       "0"
      ]
     },
     "execution_count": 9,
     "metadata": {},
     "output_type": "execute_result"
    }
   ],
   "source": [
    "mt.orders_total()"
   ]
  },
  {
   "cell_type": "code",
   "execution_count": 10,
   "id": "875477b3-0779-4075-9d86-b48bbfe61ff1",
   "metadata": {},
   "outputs": [],
   "source": [
    "mt.order_check()"
   ]
  },
  {
   "cell_type": "code",
   "execution_count": 11,
   "id": "78d41193-3457-42dd-8ba0-b79b8adb6277",
   "metadata": {},
   "outputs": [],
   "source": [
    "mt.history_orders_total()"
   ]
  },
  {
   "cell_type": "code",
   "execution_count": 12,
   "id": "3dde3444-82f8-4920-935d-6894af32199c",
   "metadata": {},
   "outputs": [
    {
     "data": {
      "text/plain": [
       "0"
      ]
     },
     "execution_count": 12,
     "metadata": {},
     "output_type": "execute_result"
    }
   ],
   "source": [
    "mt.positions_total()"
   ]
  },
  {
   "cell_type": "code",
   "execution_count": 13,
   "id": "f77a7520-a4f2-44da-bce0-cda969cf30fd",
   "metadata": {},
   "outputs": [],
   "source": [
    "pos = mt.positions_get()"
   ]
  },
  {
   "cell_type": "code",
   "execution_count": 14,
   "id": "4ea2dd2c-4989-44eb-b823-c0b1706010b8",
   "metadata": {},
   "outputs": [
    {
     "data": {
      "text/plain": [
       "()"
      ]
     },
     "execution_count": 14,
     "metadata": {},
     "output_type": "execute_result"
    }
   ],
   "source": [
    "pos"
   ]
  },
  {
   "cell_type": "markdown",
   "id": "795a0198-a92a-4e72-b808-8ede67a0af04",
   "metadata": {},
   "source": [
    "# Data"
   ]
  },
  {
   "cell_type": "markdown",
   "id": "8f930dea-3512-43b0-8896-ac09c56a8193",
   "metadata": {},
   "source": [
    "## OHLCV interval data"
   ]
  },
  {
   "cell_type": "code",
   "execution_count": null,
   "id": "034bf9c7-9b1f-4584-887f-431d1c8654db",
   "metadata": {},
   "outputs": [],
   "source": [
    "# Compute now date\n",
    "from_date = datetime(2001, 1, 1)\n",
    "to_date = datetime(2024, 4, 11)\n",
    "\n",
    "\n",
    "rates = mt.copy_rates_range(\"EURUSDm\", mt.TIMEFRAME_M1, from_date, to_date)\n",
    "df_rates = pd.DataFrame(rates)\n",
    "\n",
    "df_rates[\"time\"] = pd.to_datetime(df_rates[\"time\"], unit=\"s\")\n",
    "print(df_rates['time'][0])\n",
    "\n",
    "\n",
    "\n",
    "rates = mt.copy_rates_range(\"EURUSDm\", mt.TIMEFRAME_M5, from_date, to_date)\n",
    "df_rates = pd.DataFrame(rates)\n",
    "\n",
    "df_rates[\"time\"] = pd.to_datetime(df_rates[\"time\"], unit=\"s\")\n",
    "print(df_rates['time'][0])\n",
    "\n",
    "\n",
    "\n",
    "rates = mt.copy_rates_range(\"EURUSDm\", mt.TIMEFRAME_M15, from_date, to_date)\n",
    "df_rates = pd.DataFrame(rates)\n",
    "\n",
    "df_rates[\"time\"] = pd.to_datetime(df_rates[\"time\"], unit=\"s\")\n",
    "print(df_rates['time'][0])\n",
    "\n",
    "\n",
    "\n",
    "rates = mt.copy_rates_range(\"EURUSDm\", mt.TIMEFRAME_H1, from_date, to_date)\n",
    "df_rates = pd.DataFrame(rates)\n",
    "\n",
    "df_rates[\"time\"] = pd.to_datetime(df_rates[\"time\"], unit=\"s\")\n",
    "print(df_rates['time'][0])\n",
    "\n",
    "\n",
    "\n",
    "rates = mt.copy_rates_range(\"EURUSDm\", mt.TIMEFRAME_D1, from_date, to_date)\n",
    "df_rates = pd.DataFrame(rates)\n",
    "\n",
    "df_rates[\"time\"] = pd.to_datetime(df_rates[\"time\"], unit=\"s\")\n",
    "print(df_rates['time'][0])"
   ]
  },
  {
   "cell_type": "markdown",
   "id": "89e2f623-b031-441a-80cd-b61441ac6817",
   "metadata": {},
   "source": [
    "## Ticks data"
   ]
  },
  {
   "cell_type": "code",
   "execution_count": null,
   "id": "ec239c26-9e36-44cc-b22e-2eb640ce2e07",
   "metadata": {},
   "outputs": [],
   "source": [
    "# https://thiagomarzagao.com/2021/05/12/mt5/"
   ]
  },
  {
   "cell_type": "code",
   "execution_count": null,
   "id": "04e1ba37-9e06-4546-ba45-3ba38aa2d224",
   "metadata": {},
   "outputs": [],
   "source": [
    "# Compute now date\n",
    "from_date = datetime(2020, 4, 10)\n",
    "to_date = datetime(2024, 4, 11)\n",
    "\n",
    "# Extract n Ticks before now\n",
    "ticks = mt.copy_ticks_range(\"EURUSDm\", from_date, to_date, mt.COPY_TICKS_ALL)\n",
    "\n",
    "# Transform Tuple into a DataFrame\n",
    "df_ticks = pd.DataFrame(ticks)\n",
    "\n",
    "# Convert number format of the date into date format\n",
    "df_ticks[\"time\"] = pd.to_datetime(df_ticks[\"time\"], unit=\"s\")\n",
    "\n",
    "\n",
    "df_ticks"
   ]
  },
  {
   "cell_type": "code",
   "execution_count": null,
   "id": "75b2828b-9985-46f5-ac48-993fe97f0e7a",
   "metadata": {},
   "outputs": [],
   "source": []
  }
 ],
 "metadata": {
  "kernelspec": {
   "display_name": "Python 3 (ipykernel)",
   "language": "python",
   "name": "python3"
  },
  "language_info": {
   "codemirror_mode": {
    "name": "ipython",
    "version": 3
   },
   "file_extension": ".py",
   "mimetype": "text/x-python",
   "name": "python",
   "nbconvert_exporter": "python",
   "pygments_lexer": "ipython3",
   "version": "3.8.10"
  }
 },
 "nbformat": 4,
 "nbformat_minor": 5
}
