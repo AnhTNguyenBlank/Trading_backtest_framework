{
 "cells": [
  {
   "cell_type": "markdown",
   "metadata": {},
   "source": [
    "# Import packages"
   ]
  },
  {
   "cell_type": "code",
   "execution_count": 1,
   "metadata": {},
   "outputs": [],
   "source": [
    "import MetaTrader5 as mt\n",
    "import pandas as pd\n",
    "import ml_collections\n",
    "import yaml\n",
    "\n",
    "from datetime import datetime\n",
    "import pytz\n",
    "import sys\n",
    "\n",
    "sys.path.insert(0, 'D:/Intraday_trading')\n",
    "from src.support import *\n",
    "\n",
    "import time\n",
    "from IPython.display import clear_output"
   ]
  },
  {
   "cell_type": "code",
   "execution_count": 2,
   "metadata": {},
   "outputs": [],
   "source": [
    "config_dir = 'D:/Intraday_trading/configs/config.yaml'\n",
    "with open(config_dir) as file:\n",
    "    config = ml_collections.ConfigDict(yaml.safe_load(file))\n"
   ]
  },
  {
   "cell_type": "code",
   "execution_count": 3,
   "metadata": {},
   "outputs": [],
   "source": [
    "acc_config = config.demo_acc"
   ]
  },
  {
   "cell_type": "markdown",
   "metadata": {},
   "source": [
    "# Login account"
   ]
  },
  {
   "cell_type": "code",
   "execution_count": 4,
   "metadata": {},
   "outputs": [],
   "source": [
    "login_metatrader(acc_config = acc_config)"
   ]
  },
  {
   "cell_type": "markdown",
   "metadata": {},
   "source": [
    "# Real-time account monitor"
   ]
  },
  {
   "cell_type": "code",
   "execution_count": 5,
   "metadata": {},
   "outputs": [],
   "source": [
    "df_acc = pd.DataFrame(columns = [\n",
    "    'login', 'trade_mode', 'leverage', 'limit_orders', 'margin_so_mode',\n",
    "    'trade_allowed', 'trade_expert', 'margin_mode', 'currency_digits',\n",
    "    'fifo_close', 'balance', 'credit', 'profit', 'equity', 'margin',\n",
    "    'margin_free', 'margin_level', 'margin_so_call', 'margin_so_so',\n",
    "    'margin_initial', 'margin_maintenance', 'assets', 'liabilities',\n",
    "    'commission_blocked', 'name', 'server', 'currency', 'company',\n",
    "    'updated_at'\n",
    "    ])"
   ]
  },
  {
   "cell_type": "code",
   "execution_count": 6,
   "metadata": {},
   "outputs": [
    {
     "name": "stderr",
     "output_type": "stream",
     "text": [
      "\n",
      "KeyboardInterrupt\n",
      "\n"
     ]
    }
   ],
   "source": [
    "for _ in range(3):\n",
    "    clear_output()\n",
    "    df_acc = acc_info_rt(df_acc)\n",
    "    display(df_acc)\n",
    "    fig = plot_acc_info_rt(df_acc)\n",
    "    fig.show()\n",
    "\n",
    "    time.sleep(10) "
   ]
  },
  {
   "cell_type": "code",
   "execution_count": null,
   "metadata": {},
   "outputs": [],
   "source": []
  }
 ],
 "metadata": {
  "kernelspec": {
   "display_name": "Python 3",
   "language": "python",
   "name": "python3"
  },
  "language_info": {
   "codemirror_mode": {
    "name": "ipython",
    "version": 3
   },
   "file_extension": ".py",
   "mimetype": "text/x-python",
   "name": "python",
   "nbconvert_exporter": "python",
   "pygments_lexer": "ipython3",
   "version": "3.8.10"
  }
 },
 "nbformat": 4,
 "nbformat_minor": 2
}
