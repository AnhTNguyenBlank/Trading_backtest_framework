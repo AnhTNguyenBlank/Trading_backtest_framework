{
 "cells": [
  {
   "cell_type": "markdown",
   "metadata": {},
   "source": [
    "# Import packages"
   ]
  },
  {
   "cell_type": "code",
   "execution_count": 1,
   "metadata": {},
   "outputs": [],
   "source": [
    "import MetaTrader5 as mt\n",
    "import pandas as pd\n",
    "import ml_collections\n",
    "import yaml\n",
    "\n",
    "from datetime import datetime\n",
    "import pytz\n",
    "import sys\n",
    "\n",
    "sys.path.insert(0, 'D:/Intraday_trading')\n",
    "from src.support import *\n",
    "\n",
    "import time\n",
    "from IPython.display import clear_output"
   ]
  },
  {
   "cell_type": "code",
   "execution_count": 2,
   "metadata": {},
   "outputs": [],
   "source": [
    "config_dir = 'D:/Intraday_trading/configs/config.yaml'\n",
    "with open(config_dir) as file:\n",
    "    config = ml_collections.ConfigDict(yaml.safe_load(file))\n"
   ]
  },
  {
   "cell_type": "code",
   "execution_count": 3,
   "metadata": {},
   "outputs": [],
   "source": [
    "acc_config = config.real_acc"
   ]
  },
  {
   "cell_type": "markdown",
   "metadata": {},
   "source": [
    "# Login account"
   ]
  },
  {
   "cell_type": "code",
   "execution_count": 4,
   "metadata": {},
   "outputs": [],
   "source": [
    "login_metatrader(acc_config = acc_config)"
   ]
  },
  {
   "cell_type": "markdown",
   "metadata": {},
   "source": [
    "# Real-time account monitor"
   ]
  },
  {
   "cell_type": "code",
   "execution_count": 5,
   "metadata": {},
   "outputs": [],
   "source": [
    "df_acc = pd.DataFrame(columns = [\n",
    "    'login', 'trade_mode', 'leverage', 'limit_orders', 'margin_so_mode',\n",
    "    'trade_allowed', 'trade_expert', 'margin_mode', 'currency_digits',\n",
    "    'fifo_close', 'balance', 'credit', 'profit', 'equity', 'margin',\n",
    "    'margin_free', 'margin_level', 'margin_so_call', 'margin_so_so',\n",
    "    'margin_initial', 'margin_maintenance', 'assets', 'liabilities',\n",
    "    'commission_blocked', 'name', 'server', 'currency', 'company',\n",
    "    'updated_at'\n",
    "    ])"
   ]
  },
  {
   "cell_type": "code",
   "execution_count": 6,
   "metadata": {},
   "outputs": [
    {
     "data": {
      "text/html": [
       "<div>\n",
       "<style scoped>\n",
       "    .dataframe tbody tr th:only-of-type {\n",
       "        vertical-align: middle;\n",
       "    }\n",
       "\n",
       "    .dataframe tbody tr th {\n",
       "        vertical-align: top;\n",
       "    }\n",
       "\n",
       "    .dataframe thead th {\n",
       "        text-align: right;\n",
       "    }\n",
       "</style>\n",
       "<table border=\"1\" class=\"dataframe\">\n",
       "  <thead>\n",
       "    <tr style=\"text-align: right;\">\n",
       "      <th></th>\n",
       "      <th>login</th>\n",
       "      <th>trade_mode</th>\n",
       "      <th>leverage</th>\n",
       "      <th>limit_orders</th>\n",
       "      <th>margin_so_mode</th>\n",
       "      <th>trade_allowed</th>\n",
       "      <th>trade_expert</th>\n",
       "      <th>margin_mode</th>\n",
       "      <th>currency_digits</th>\n",
       "      <th>fifo_close</th>\n",
       "      <th>balance</th>\n",
       "      <th>credit</th>\n",
       "      <th>profit</th>\n",
       "      <th>equity</th>\n",
       "      <th>margin</th>\n",
       "      <th>margin_free</th>\n",
       "      <th>margin_level</th>\n",
       "      <th>margin_so_call</th>\n",
       "      <th>margin_so_so</th>\n",
       "      <th>margin_initial</th>\n",
       "      <th>margin_maintenance</th>\n",
       "      <th>assets</th>\n",
       "      <th>liabilities</th>\n",
       "      <th>commission_blocked</th>\n",
       "      <th>name</th>\n",
       "      <th>server</th>\n",
       "      <th>currency</th>\n",
       "      <th>company</th>\n",
       "      <th>updated_at</th>\n",
       "    </tr>\n",
       "  </thead>\n",
       "  <tbody>\n",
       "    <tr>\n",
       "      <th>1</th>\n",
       "      <td>148135748</td>\n",
       "      <td>2</td>\n",
       "      <td>100</td>\n",
       "      <td>0</td>\n",
       "      <td>0</td>\n",
       "      <td>True</td>\n",
       "      <td>True</td>\n",
       "      <td>2</td>\n",
       "      <td>2</td>\n",
       "      <td>False</td>\n",
       "      <td>1632.17</td>\n",
       "      <td>0.0</td>\n",
       "      <td>-4.0</td>\n",
       "      <td>1628.17</td>\n",
       "      <td>139.64</td>\n",
       "      <td>1488.53</td>\n",
       "      <td>1165.976797</td>\n",
       "      <td>60.0</td>\n",
       "      <td>0.0</td>\n",
       "      <td>0.0</td>\n",
       "      <td>0.0</td>\n",
       "      <td>0.0</td>\n",
       "      <td>0.0</td>\n",
       "      <td>0.0</td>\n",
       "      <td>Client</td>\n",
       "      <td>Exness-MT5Real18</td>\n",
       "      <td>USD</td>\n",
       "      <td>Exness Technologies Ltd</td>\n",
       "      <td>2024-06-25 11:35:40.903898</td>\n",
       "    </tr>\n",
       "    <tr>\n",
       "      <th>1</th>\n",
       "      <td>148135748</td>\n",
       "      <td>2</td>\n",
       "      <td>100</td>\n",
       "      <td>0</td>\n",
       "      <td>0</td>\n",
       "      <td>True</td>\n",
       "      <td>True</td>\n",
       "      <td>2</td>\n",
       "      <td>2</td>\n",
       "      <td>False</td>\n",
       "      <td>1632.17</td>\n",
       "      <td>0.0</td>\n",
       "      <td>-4.32</td>\n",
       "      <td>1627.85</td>\n",
       "      <td>139.64</td>\n",
       "      <td>1488.21</td>\n",
       "      <td>1165.747637</td>\n",
       "      <td>60.0</td>\n",
       "      <td>0.0</td>\n",
       "      <td>0.0</td>\n",
       "      <td>0.0</td>\n",
       "      <td>0.0</td>\n",
       "      <td>0.0</td>\n",
       "      <td>0.0</td>\n",
       "      <td>Client</td>\n",
       "      <td>Exness-MT5Real18</td>\n",
       "      <td>USD</td>\n",
       "      <td>Exness Technologies Ltd</td>\n",
       "      <td>2024-06-25 11:35:51.686936</td>\n",
       "    </tr>\n",
       "    <tr>\n",
       "      <th>1</th>\n",
       "      <td>148135748</td>\n",
       "      <td>2</td>\n",
       "      <td>100</td>\n",
       "      <td>0</td>\n",
       "      <td>0</td>\n",
       "      <td>True</td>\n",
       "      <td>True</td>\n",
       "      <td>2</td>\n",
       "      <td>2</td>\n",
       "      <td>False</td>\n",
       "      <td>1632.17</td>\n",
       "      <td>0.0</td>\n",
       "      <td>-4.12</td>\n",
       "      <td>1628.05</td>\n",
       "      <td>139.64</td>\n",
       "      <td>1488.41</td>\n",
       "      <td>1165.890862</td>\n",
       "      <td>60.0</td>\n",
       "      <td>0.0</td>\n",
       "      <td>0.0</td>\n",
       "      <td>0.0</td>\n",
       "      <td>0.0</td>\n",
       "      <td>0.0</td>\n",
       "      <td>0.0</td>\n",
       "      <td>Client</td>\n",
       "      <td>Exness-MT5Real18</td>\n",
       "      <td>USD</td>\n",
       "      <td>Exness Technologies Ltd</td>\n",
       "      <td>2024-06-25 11:36:01.954171</td>\n",
       "    </tr>\n",
       "  </tbody>\n",
       "</table>\n",
       "</div>"
      ],
      "text/plain": [
       "       login trade_mode leverage limit_orders margin_so_mode trade_allowed  \\\n",
       "1  148135748          2      100            0              0          True   \n",
       "1  148135748          2      100            0              0          True   \n",
       "1  148135748          2      100            0              0          True   \n",
       "\n",
       "  trade_expert margin_mode currency_digits fifo_close  balance credit profit  \\\n",
       "1         True           2               2      False  1632.17    0.0   -4.0   \n",
       "1         True           2               2      False  1632.17    0.0  -4.32   \n",
       "1         True           2               2      False  1632.17    0.0  -4.12   \n",
       "\n",
       "    equity  margin margin_free margin_level margin_so_call margin_so_so  \\\n",
       "1  1628.17  139.64     1488.53  1165.976797           60.0          0.0   \n",
       "1  1627.85  139.64     1488.21  1165.747637           60.0          0.0   \n",
       "1  1628.05  139.64     1488.41  1165.890862           60.0          0.0   \n",
       "\n",
       "  margin_initial margin_maintenance assets liabilities commission_blocked  \\\n",
       "1            0.0                0.0    0.0         0.0                0.0   \n",
       "1            0.0                0.0    0.0         0.0                0.0   \n",
       "1            0.0                0.0    0.0         0.0                0.0   \n",
       "\n",
       "     name            server currency                  company  \\\n",
       "1  Client  Exness-MT5Real18      USD  Exness Technologies Ltd   \n",
       "1  Client  Exness-MT5Real18      USD  Exness Technologies Ltd   \n",
       "1  Client  Exness-MT5Real18      USD  Exness Technologies Ltd   \n",
       "\n",
       "                  updated_at  \n",
       "1 2024-06-25 11:35:40.903898  \n",
       "1 2024-06-25 11:35:51.686936  \n",
       "1 2024-06-25 11:36:01.954171  "
      ]
     },
     "metadata": {},
     "output_type": "display_data"
    },
    {
     "data": {
      "application/vnd.plotly.v1+json": {
       "config": {
        "plotlyServerURL": "https://plot.ly"
       },
       "data": [
        {
         "marker": {
          "color": "blue"
         },
         "name": "Balance",
         "text": [
          1632.17,
          1632.17,
          1632.17
         ],
         "textposition": "outside",
         "type": "bar",
         "x": [
          "2024-06-25T11:35:40.903898",
          "2024-06-25T11:35:51.686936",
          "2024-06-25T11:36:01.954171"
         ],
         "xaxis": "x",
         "y": [
          1632.17,
          1632.17,
          1632.17
         ],
         "yaxis": "y"
        },
        {
         "marker": {
          "color": "red"
         },
         "name": "Equity",
         "text": [
          1628.17,
          1627.85,
          1628.05
         ],
         "textposition": "outside",
         "type": "bar",
         "x": [
          "2024-06-25T11:35:40.903898",
          "2024-06-25T11:35:51.686936",
          "2024-06-25T11:36:01.954171"
         ],
         "xaxis": "x",
         "y": [
          1628.17,
          1627.85,
          1628.05
         ],
         "yaxis": "y"
        },
        {
         "line": {
          "color": "green",
          "width": 5
         },
         "mode": "lines+markers+text",
         "name": "Profit",
         "text": [
          -4,
          -4.32,
          -4.12
         ],
         "textposition": "top center",
         "type": "scatter",
         "x": [
          "2024-06-25T11:35:40.903898",
          "2024-06-25T11:35:51.686936",
          "2024-06-25T11:36:01.954171"
         ],
         "xaxis": "x",
         "y": [
          -4,
          -4.32,
          -4.12
         ],
         "yaxis": "y2"
        },
        {
         "line": {
          "color": "blue",
          "width": 2
         },
         "mode": "lines+markers+text",
         "name": "Margin",
         "text": [
          139.64,
          139.64,
          139.64
         ],
         "textposition": "top center",
         "type": "scatter",
         "x": [
          "2024-06-25T11:35:40.903898",
          "2024-06-25T11:35:51.686936",
          "2024-06-25T11:36:01.954171"
         ],
         "xaxis": "x2",
         "y": [
          139.64,
          139.64,
          139.64
         ],
         "yaxis": "y3"
        },
        {
         "line": {
          "color": "yellow",
          "width": 2
         },
         "mode": "lines+markers+text",
         "name": "Margin_free",
         "text": [
          1488.53,
          1488.21,
          1488.41
         ],
         "textposition": "top center",
         "type": "scatter",
         "x": [
          "2024-06-25T11:35:40.903898",
          "2024-06-25T11:35:51.686936",
          "2024-06-25T11:36:01.954171"
         ],
         "xaxis": "x2",
         "y": [
          1488.53,
          1488.21,
          1488.41
         ],
         "yaxis": "y3"
        },
        {
         "marker": {
          "color": "red"
         },
         "name": "Margin_level",
         "text": [
          1165.98,
          1165.75,
          1165.89
         ],
         "textposition": "outside",
         "type": "bar",
         "x": [
          "2024-06-25T11:35:40.903898",
          "2024-06-25T11:35:51.686936",
          "2024-06-25T11:36:01.954171"
         ],
         "xaxis": "x3",
         "y": [
          1165.9767974792326,
          1165.7476367802922,
          1165.8908622171298
         ],
         "yaxis": "y5"
        }
       ],
       "layout": {
        "annotations": [
         {
          "font": {
           "size": 16
          },
          "showarrow": false,
          "text": "Balance, Equity",
          "x": 0.47,
          "xanchor": "center",
          "xref": "paper",
          "y": 1,
          "yanchor": "bottom",
          "yref": "paper"
         },
         {
          "font": {
           "size": 16
          },
          "showarrow": false,
          "text": "Margin, Free Margin",
          "x": 0.47,
          "xanchor": "center",
          "xref": "paper",
          "y": 0.6499999999999999,
          "yanchor": "bottom",
          "yref": "paper"
         },
         {
          "font": {
           "size": 16
          },
          "showarrow": false,
          "text": "Margin level",
          "x": 0.47,
          "xanchor": "center",
          "xref": "paper",
          "y": 0.3,
          "yanchor": "bottom",
          "yref": "paper"
         }
        ],
        "bargap": 0.3,
        "bargroupgap": 0,
        "barmode": "group",
        "font": {
         "color": "white"
        },
        "height": 800,
        "legend": {
         "x": 1.01,
         "y": 1
        },
        "paper_bgcolor": "black",
        "plot_bgcolor": "black",
        "template": {
         "data": {
          "bar": [
           {
            "error_x": {
             "color": "#2a3f5f"
            },
            "error_y": {
             "color": "#2a3f5f"
            },
            "marker": {
             "line": {
              "color": "#E5ECF6",
              "width": 0.5
             },
             "pattern": {
              "fillmode": "overlay",
              "size": 10,
              "solidity": 0.2
             }
            },
            "type": "bar"
           }
          ],
          "barpolar": [
           {
            "marker": {
             "line": {
              "color": "#E5ECF6",
              "width": 0.5
             },
             "pattern": {
              "fillmode": "overlay",
              "size": 10,
              "solidity": 0.2
             }
            },
            "type": "barpolar"
           }
          ],
          "carpet": [
           {
            "aaxis": {
             "endlinecolor": "#2a3f5f",
             "gridcolor": "white",
             "linecolor": "white",
             "minorgridcolor": "white",
             "startlinecolor": "#2a3f5f"
            },
            "baxis": {
             "endlinecolor": "#2a3f5f",
             "gridcolor": "white",
             "linecolor": "white",
             "minorgridcolor": "white",
             "startlinecolor": "#2a3f5f"
            },
            "type": "carpet"
           }
          ],
          "choropleth": [
           {
            "colorbar": {
             "outlinewidth": 0,
             "ticks": ""
            },
            "type": "choropleth"
           }
          ],
          "contour": [
           {
            "colorbar": {
             "outlinewidth": 0,
             "ticks": ""
            },
            "colorscale": [
             [
              0,
              "#0d0887"
             ],
             [
              0.1111111111111111,
              "#46039f"
             ],
             [
              0.2222222222222222,
              "#7201a8"
             ],
             [
              0.3333333333333333,
              "#9c179e"
             ],
             [
              0.4444444444444444,
              "#bd3786"
             ],
             [
              0.5555555555555556,
              "#d8576b"
             ],
             [
              0.6666666666666666,
              "#ed7953"
             ],
             [
              0.7777777777777778,
              "#fb9f3a"
             ],
             [
              0.8888888888888888,
              "#fdca26"
             ],
             [
              1,
              "#f0f921"
             ]
            ],
            "type": "contour"
           }
          ],
          "contourcarpet": [
           {
            "colorbar": {
             "outlinewidth": 0,
             "ticks": ""
            },
            "type": "contourcarpet"
           }
          ],
          "heatmap": [
           {
            "colorbar": {
             "outlinewidth": 0,
             "ticks": ""
            },
            "colorscale": [
             [
              0,
              "#0d0887"
             ],
             [
              0.1111111111111111,
              "#46039f"
             ],
             [
              0.2222222222222222,
              "#7201a8"
             ],
             [
              0.3333333333333333,
              "#9c179e"
             ],
             [
              0.4444444444444444,
              "#bd3786"
             ],
             [
              0.5555555555555556,
              "#d8576b"
             ],
             [
              0.6666666666666666,
              "#ed7953"
             ],
             [
              0.7777777777777778,
              "#fb9f3a"
             ],
             [
              0.8888888888888888,
              "#fdca26"
             ],
             [
              1,
              "#f0f921"
             ]
            ],
            "type": "heatmap"
           }
          ],
          "heatmapgl": [
           {
            "colorbar": {
             "outlinewidth": 0,
             "ticks": ""
            },
            "colorscale": [
             [
              0,
              "#0d0887"
             ],
             [
              0.1111111111111111,
              "#46039f"
             ],
             [
              0.2222222222222222,
              "#7201a8"
             ],
             [
              0.3333333333333333,
              "#9c179e"
             ],
             [
              0.4444444444444444,
              "#bd3786"
             ],
             [
              0.5555555555555556,
              "#d8576b"
             ],
             [
              0.6666666666666666,
              "#ed7953"
             ],
             [
              0.7777777777777778,
              "#fb9f3a"
             ],
             [
              0.8888888888888888,
              "#fdca26"
             ],
             [
              1,
              "#f0f921"
             ]
            ],
            "type": "heatmapgl"
           }
          ],
          "histogram": [
           {
            "marker": {
             "pattern": {
              "fillmode": "overlay",
              "size": 10,
              "solidity": 0.2
             }
            },
            "type": "histogram"
           }
          ],
          "histogram2d": [
           {
            "colorbar": {
             "outlinewidth": 0,
             "ticks": ""
            },
            "colorscale": [
             [
              0,
              "#0d0887"
             ],
             [
              0.1111111111111111,
              "#46039f"
             ],
             [
              0.2222222222222222,
              "#7201a8"
             ],
             [
              0.3333333333333333,
              "#9c179e"
             ],
             [
              0.4444444444444444,
              "#bd3786"
             ],
             [
              0.5555555555555556,
              "#d8576b"
             ],
             [
              0.6666666666666666,
              "#ed7953"
             ],
             [
              0.7777777777777778,
              "#fb9f3a"
             ],
             [
              0.8888888888888888,
              "#fdca26"
             ],
             [
              1,
              "#f0f921"
             ]
            ],
            "type": "histogram2d"
           }
          ],
          "histogram2dcontour": [
           {
            "colorbar": {
             "outlinewidth": 0,
             "ticks": ""
            },
            "colorscale": [
             [
              0,
              "#0d0887"
             ],
             [
              0.1111111111111111,
              "#46039f"
             ],
             [
              0.2222222222222222,
              "#7201a8"
             ],
             [
              0.3333333333333333,
              "#9c179e"
             ],
             [
              0.4444444444444444,
              "#bd3786"
             ],
             [
              0.5555555555555556,
              "#d8576b"
             ],
             [
              0.6666666666666666,
              "#ed7953"
             ],
             [
              0.7777777777777778,
              "#fb9f3a"
             ],
             [
              0.8888888888888888,
              "#fdca26"
             ],
             [
              1,
              "#f0f921"
             ]
            ],
            "type": "histogram2dcontour"
           }
          ],
          "mesh3d": [
           {
            "colorbar": {
             "outlinewidth": 0,
             "ticks": ""
            },
            "type": "mesh3d"
           }
          ],
          "parcoords": [
           {
            "line": {
             "colorbar": {
              "outlinewidth": 0,
              "ticks": ""
             }
            },
            "type": "parcoords"
           }
          ],
          "pie": [
           {
            "automargin": true,
            "type": "pie"
           }
          ],
          "scatter": [
           {
            "fillpattern": {
             "fillmode": "overlay",
             "size": 10,
             "solidity": 0.2
            },
            "type": "scatter"
           }
          ],
          "scatter3d": [
           {
            "line": {
             "colorbar": {
              "outlinewidth": 0,
              "ticks": ""
             }
            },
            "marker": {
             "colorbar": {
              "outlinewidth": 0,
              "ticks": ""
             }
            },
            "type": "scatter3d"
           }
          ],
          "scattercarpet": [
           {
            "marker": {
             "colorbar": {
              "outlinewidth": 0,
              "ticks": ""
             }
            },
            "type": "scattercarpet"
           }
          ],
          "scattergeo": [
           {
            "marker": {
             "colorbar": {
              "outlinewidth": 0,
              "ticks": ""
             }
            },
            "type": "scattergeo"
           }
          ],
          "scattergl": [
           {
            "marker": {
             "colorbar": {
              "outlinewidth": 0,
              "ticks": ""
             }
            },
            "type": "scattergl"
           }
          ],
          "scattermapbox": [
           {
            "marker": {
             "colorbar": {
              "outlinewidth": 0,
              "ticks": ""
             }
            },
            "type": "scattermapbox"
           }
          ],
          "scatterpolar": [
           {
            "marker": {
             "colorbar": {
              "outlinewidth": 0,
              "ticks": ""
             }
            },
            "type": "scatterpolar"
           }
          ],
          "scatterpolargl": [
           {
            "marker": {
             "colorbar": {
              "outlinewidth": 0,
              "ticks": ""
             }
            },
            "type": "scatterpolargl"
           }
          ],
          "scatterternary": [
           {
            "marker": {
             "colorbar": {
              "outlinewidth": 0,
              "ticks": ""
             }
            },
            "type": "scatterternary"
           }
          ],
          "surface": [
           {
            "colorbar": {
             "outlinewidth": 0,
             "ticks": ""
            },
            "colorscale": [
             [
              0,
              "#0d0887"
             ],
             [
              0.1111111111111111,
              "#46039f"
             ],
             [
              0.2222222222222222,
              "#7201a8"
             ],
             [
              0.3333333333333333,
              "#9c179e"
             ],
             [
              0.4444444444444444,
              "#bd3786"
             ],
             [
              0.5555555555555556,
              "#d8576b"
             ],
             [
              0.6666666666666666,
              "#ed7953"
             ],
             [
              0.7777777777777778,
              "#fb9f3a"
             ],
             [
              0.8888888888888888,
              "#fdca26"
             ],
             [
              1,
              "#f0f921"
             ]
            ],
            "type": "surface"
           }
          ],
          "table": [
           {
            "cells": {
             "fill": {
              "color": "#EBF0F8"
             },
             "line": {
              "color": "white"
             }
            },
            "header": {
             "fill": {
              "color": "#C8D4E3"
             },
             "line": {
              "color": "white"
             }
            },
            "type": "table"
           }
          ]
         },
         "layout": {
          "annotationdefaults": {
           "arrowcolor": "#2a3f5f",
           "arrowhead": 0,
           "arrowwidth": 1
          },
          "autotypenumbers": "strict",
          "coloraxis": {
           "colorbar": {
            "outlinewidth": 0,
            "ticks": ""
           }
          },
          "colorscale": {
           "diverging": [
            [
             0,
             "#8e0152"
            ],
            [
             0.1,
             "#c51b7d"
            ],
            [
             0.2,
             "#de77ae"
            ],
            [
             0.3,
             "#f1b6da"
            ],
            [
             0.4,
             "#fde0ef"
            ],
            [
             0.5,
             "#f7f7f7"
            ],
            [
             0.6,
             "#e6f5d0"
            ],
            [
             0.7,
             "#b8e186"
            ],
            [
             0.8,
             "#7fbc41"
            ],
            [
             0.9,
             "#4d9221"
            ],
            [
             1,
             "#276419"
            ]
           ],
           "sequential": [
            [
             0,
             "#0d0887"
            ],
            [
             0.1111111111111111,
             "#46039f"
            ],
            [
             0.2222222222222222,
             "#7201a8"
            ],
            [
             0.3333333333333333,
             "#9c179e"
            ],
            [
             0.4444444444444444,
             "#bd3786"
            ],
            [
             0.5555555555555556,
             "#d8576b"
            ],
            [
             0.6666666666666666,
             "#ed7953"
            ],
            [
             0.7777777777777778,
             "#fb9f3a"
            ],
            [
             0.8888888888888888,
             "#fdca26"
            ],
            [
             1,
             "#f0f921"
            ]
           ],
           "sequentialminus": [
            [
             0,
             "#0d0887"
            ],
            [
             0.1111111111111111,
             "#46039f"
            ],
            [
             0.2222222222222222,
             "#7201a8"
            ],
            [
             0.3333333333333333,
             "#9c179e"
            ],
            [
             0.4444444444444444,
             "#bd3786"
            ],
            [
             0.5555555555555556,
             "#d8576b"
            ],
            [
             0.6666666666666666,
             "#ed7953"
            ],
            [
             0.7777777777777778,
             "#fb9f3a"
            ],
            [
             0.8888888888888888,
             "#fdca26"
            ],
            [
             1,
             "#f0f921"
            ]
           ]
          },
          "colorway": [
           "#636efa",
           "#EF553B",
           "#00cc96",
           "#ab63fa",
           "#FFA15A",
           "#19d3f3",
           "#FF6692",
           "#B6E880",
           "#FF97FF",
           "#FECB52"
          ],
          "font": {
           "color": "#2a3f5f"
          },
          "geo": {
           "bgcolor": "white",
           "lakecolor": "white",
           "landcolor": "#E5ECF6",
           "showlakes": true,
           "showland": true,
           "subunitcolor": "white"
          },
          "hoverlabel": {
           "align": "left"
          },
          "hovermode": "closest",
          "mapbox": {
           "style": "light"
          },
          "paper_bgcolor": "white",
          "plot_bgcolor": "#E5ECF6",
          "polar": {
           "angularaxis": {
            "gridcolor": "white",
            "linecolor": "white",
            "ticks": ""
           },
           "bgcolor": "#E5ECF6",
           "radialaxis": {
            "gridcolor": "white",
            "linecolor": "white",
            "ticks": ""
           }
          },
          "scene": {
           "xaxis": {
            "backgroundcolor": "#E5ECF6",
            "gridcolor": "white",
            "gridwidth": 2,
            "linecolor": "white",
            "showbackground": true,
            "ticks": "",
            "zerolinecolor": "white"
           },
           "yaxis": {
            "backgroundcolor": "#E5ECF6",
            "gridcolor": "white",
            "gridwidth": 2,
            "linecolor": "white",
            "showbackground": true,
            "ticks": "",
            "zerolinecolor": "white"
           },
           "zaxis": {
            "backgroundcolor": "#E5ECF6",
            "gridcolor": "white",
            "gridwidth": 2,
            "linecolor": "white",
            "showbackground": true,
            "ticks": "",
            "zerolinecolor": "white"
           }
          },
          "shapedefaults": {
           "line": {
            "color": "#2a3f5f"
           }
          },
          "ternary": {
           "aaxis": {
            "gridcolor": "white",
            "linecolor": "white",
            "ticks": ""
           },
           "baxis": {
            "gridcolor": "white",
            "linecolor": "white",
            "ticks": ""
           },
           "bgcolor": "#E5ECF6",
           "caxis": {
            "gridcolor": "white",
            "linecolor": "white",
            "ticks": ""
           }
          },
          "title": {
           "x": 0.05
          },
          "xaxis": {
           "automargin": true,
           "gridcolor": "white",
           "linecolor": "white",
           "ticks": "",
           "title": {
            "standoff": 15
           },
           "zerolinecolor": "white",
           "zerolinewidth": 2
          },
          "yaxis": {
           "automargin": true,
           "gridcolor": "white",
           "linecolor": "white",
           "ticks": "",
           "title": {
            "standoff": 15
           },
           "zerolinecolor": "white",
           "zerolinewidth": 2
          }
         }
        },
        "width": 1300,
        "xaxis": {
         "anchor": "y",
         "domain": [
          0,
          0.94
         ],
         "gridcolor": "grey",
         "linecolor": "white",
         "matches": "x3",
         "mirror": true,
         "rangeslider": {
          "bgcolor": "rgba(0,0,0,0.1)",
          "thickness": 0.05,
          "visible": false
         },
         "showline": true,
         "showticklabels": false,
         "ticks": "outside",
         "type": "date"
        },
        "xaxis2": {
         "anchor": "y3",
         "domain": [
          0,
          0.94
         ],
         "gridcolor": "grey",
         "linecolor": "white",
         "matches": "x3",
         "mirror": true,
         "showline": true,
         "showticklabels": false,
         "ticks": "outside"
        },
        "xaxis3": {
         "anchor": "y5",
         "domain": [
          0,
          0.94
         ],
         "gridcolor": "grey",
         "linecolor": "white",
         "mirror": true,
         "showline": true,
         "ticks": "outside"
        },
        "yaxis": {
         "anchor": "x",
         "domain": [
          0.7,
          1
         ],
         "fixedrange": false,
         "gridcolor": "grey",
         "linecolor": "white",
         "mirror": true,
         "range": [
          1468.9530000000002,
          1713.7785000000001
         ],
         "showline": true,
         "ticks": "outside"
        },
        "yaxis2": {
         "anchor": "x",
         "autorange": true,
         "gridcolor": "grey",
         "linecolor": "white",
         "mirror": true,
         "overlaying": "y",
         "showline": true,
         "side": "right",
         "ticks": "outside"
        },
        "yaxis3": {
         "anchor": "x2",
         "domain": [
          0.35,
          0.6499999999999999
         ],
         "fixedrange": false,
         "gridcolor": "grey",
         "linecolor": "white",
         "mirror": true,
         "range": [
          -10,
          2232.795
         ],
         "showline": true,
         "ticks": "outside"
        },
        "yaxis4": {
         "anchor": "x2",
         "autorange": true,
         "fixedrange": false,
         "gridcolor": "grey",
         "linecolor": "white",
         "mirror": true,
         "overlaying": "y3",
         "range": [
          -10,
          2232.795
         ],
         "showline": true,
         "side": "right",
         "ticks": "outside"
        },
        "yaxis5": {
         "anchor": "x3",
         "domain": [
          0,
          0.3
         ],
         "fixedrange": false,
         "gridcolor": "grey",
         "linecolor": "white",
         "mirror": true,
         "range": [
          0,
          1748.9651962188489
         ],
         "showline": true,
         "ticks": "outside"
        },
        "yaxis6": {
         "anchor": "x3",
         "autorange": true,
         "fixedrange": false,
         "gridcolor": "grey",
         "linecolor": "white",
         "mirror": true,
         "overlaying": "y5",
         "range": [
          0,
          1748.9651962188489
         ],
         "showline": true,
         "side": "right",
         "ticks": "outside"
        }
       }
      }
     },
     "metadata": {},
     "output_type": "display_data"
    }
   ],
   "source": [
    "for _ in range(3):\n",
    "    clear_output()\n",
    "    df_acc = acc_info_rt(df_acc)\n",
    "    display(df_acc)\n",
    "    fig = plot_acc_info_rt(df_acc)\n",
    "    fig.show()\n",
    "\n",
    "    time.sleep(10) "
   ]
  }
 ],
 "metadata": {
  "kernelspec": {
   "display_name": "Python 3",
   "language": "python",
   "name": "python3"
  },
  "language_info": {
   "codemirror_mode": {
    "name": "ipython",
    "version": 3
   },
   "file_extension": ".py",
   "mimetype": "text/x-python",
   "name": "python",
   "nbconvert_exporter": "python",
   "pygments_lexer": "ipython3",
   "version": "3.8.10"
  }
 },
 "nbformat": 4,
 "nbformat_minor": 2
}
