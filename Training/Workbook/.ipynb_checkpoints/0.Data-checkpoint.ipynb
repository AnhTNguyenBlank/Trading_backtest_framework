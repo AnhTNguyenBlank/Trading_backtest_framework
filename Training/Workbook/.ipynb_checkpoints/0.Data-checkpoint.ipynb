{
 "cells": [
  {
   "cell_type": "markdown",
   "id": "2VlvZHQD40KG",
   "metadata": {
    "id": "2VlvZHQD40KG"
   },
   "source": [
    "# Import packages"
   ]
  },
  {
   "cell_type": "code",
   "execution_count": null,
   "id": "41da6ad3",
   "metadata": {
    "id": "41da6ad3"
   },
   "outputs": [],
   "source": [
    "import pandas as pd\n",
    "import numpy as np\n",
    "import matplotlib.pyplot as plt\n",
    "from datetime import datetime, timedelta\n",
    "import pickle\n",
    "import os\n",
    "import math\n",
    "\n",
    "import ta\n",
    "\n",
    "# using the style for the plot\n",
    "plt.style.use('classic')\n",
    "# pd.set_option('display.max_columns', 500)\n",
    "# pd.set_option('display.max_rows', 300)\n",
    "\n",
    "%config inlinebackend.figure_format = 'svg'"
   ]
  },
  {
   "cell_type": "code",
   "execution_count": null,
   "id": "SH_ZkwYe5Kgc",
   "metadata": {
    "id": "SH_ZkwYe5Kgc"
   },
   "outputs": [],
   "source": [
    "import warnings\n",
    "warnings.filterwarnings('ignore')"
   ]
  },
  {
   "cell_type": "code",
   "execution_count": null,
   "id": "SGL_b4tNKPd0",
   "metadata": {
    "id": "SGL_b4tNKPd0"
   },
   "outputs": [],
   "source": [
    "import plotly.graph_objects as go\n",
    "from plotly.subplots import make_subplots"
   ]
  },
  {
   "cell_type": "code",
   "execution_count": null,
   "id": "KKsXTkES5MNF",
   "metadata": {
    "id": "KKsXTkES5MNF"
   },
   "outputs": [],
   "source": [
    "import tensorflow as tf\n",
    "from tensorflow import keras"
   ]
  },
  {
   "cell_type": "markdown",
   "id": "ySpWxX2U5Vqy",
   "metadata": {
    "id": "ySpWxX2U5Vqy"
   },
   "source": [
    "# Data"
   ]
  },
  {
   "cell_type": "code",
   "execution_count": null,
   "id": "ee207528",
   "metadata": {
    "id": "ee207528"
   },
   "outputs": [],
   "source": [
    "path = '/content/drive/MyDrive/Projects/Intraday trading/Data'\n",
    "\n",
    "# df = pd.read_csv(f'{path}/data.csv')\n",
    "\n",
    "# df.to_pickle(f'{path}/data.pkl')"
   ]
  },
  {
   "cell_type": "code",
   "execution_count": null,
   "id": "iu1Qj5ejMFFE",
   "metadata": {
    "id": "iu1Qj5ejMFFE"
   },
   "outputs": [],
   "source": [
    "df = pd.read_pickle(f'{path}/data.pkl')\n",
    "df = df.set_index('Date/Time')\n",
    "df.index = pd.to_datetime(df.index)\n",
    "\n",
    "df.columns = [col.upper() for col in df.columns]"
   ]
  },
  {
   "cell_type": "code",
   "execution_count": null,
   "id": "xpR20GF_f7ga",
   "metadata": {
    "id": "xpR20GF_f7ga"
   },
   "outputs": [],
   "source": [
    "def prepare_df(df, timeframe):\n",
    "\n",
    "    assert timeframe in ['1min', '5min', '15min', '1H', '1D']\n",
    "\n",
    "    if timeframe != '1min':\n",
    "        df = df.resample(rule = timeframe).agg(\n",
    "            {'OPEN': 'first',\n",
    "            'HIGH': 'max',\n",
    "            'LOW': 'min',\n",
    "            'CLOSE': 'last',\n",
    "            'VOLUME': 'sum',\n",
    "            }).dropna()\n",
    "\n",
    "    df['AVG_PRICE'] = (df['OPEN'] + df['HIGH'] + df['LOW'] + df['CLOSE'])/4\n",
    "\n",
    "    df['FLAG_INCREASE_CANDLE'] = np.where(df['CLOSE'] >= df['OPEN'], 1, 0)\n",
    "\n",
    "    df['BODY'] = df.apply(lambda x: max(x['OPEN'], x['CLOSE']) - min(x['OPEN'], x['CLOSE']),\n",
    "                                    axis = 1)\n",
    "    df['UPPER_SHADOW'] = df.apply(lambda x: x['HIGH'] - max(x['OPEN'], x['CLOSE']),\n",
    "                                            axis = 1)\n",
    "    df['LOWER_SHADOW'] = df.apply(lambda x: min(x['OPEN'], x['CLOSE']) - x['LOW'],\n",
    "                                            axis = 1)\n",
    "\n",
    "    df['FLAG_LONG_UPPER_SHADOW'] = np.where(df['UPPER_SHADOW'] >= df['BODY'], 1, 0)\n",
    "    df['FLAG_LONG_LOWER_SHADOW'] = np.where(df['LOWER_SHADOW'] >= df['BODY'], 1, 0)\n",
    "\n",
    "    df['FLAG_HIGHER_HIGH(20)'] = np.where(df['HIGH'] >= df['HIGH'].shift(20), 1, 0)\n",
    "    df['FLAG_HIGHER_LOW(20)'] = np.where(df['LOW'] >= df['LOW'].shift(20), 1, 0)\n",
    "\n",
    "\n",
    "    #Moving average of volume\n",
    "    df['AVG_VOL(50)'] = df['VOLUME'].rolling(50).mean()\n",
    "    df['FLAG_OVER_AVG_VOL(50)'] = np.where(df['VOLUME'] >= df['AVG_VOL(50)'], 1, 0)\n",
    "\n",
    "    df['AVG_VOL(200)'] = df['VOLUME'].rolling(200).mean()\n",
    "    df['FLAG_OVER_AVG_VOL(200)'] = np.where(df['VOLUME'] >= df['AVG_VOL(200)'], 1, 0)\n",
    "\n",
    "    df['FLAG_UPTREND_VOL(20)'] = np.where(df['VOLUME'] >= df['VOLUME'].shift(20), 1, 0)\n",
    "\n",
    "\n",
    "    #RSI\n",
    "    df['RSI'] = ta.momentum.RSIIndicator(df['CLOSE'],\n",
    "                                            window = 14).rsi()\n",
    "\n",
    "    df['FLAG_UNDER_30_RSI'] = np.where(df['RSI'] < 30, 1, 0)\n",
    "    df['FLAG_OVER_70_RSI'] = np.where(df['RSI'] > 70, 1, 0)\n",
    "    df['FLAG_UPTREND_RSI(20)'] = np.where(df['RSI'] >= df['RSI'].shift(20), 1, 0)\n",
    "\n",
    "    #Exponential moving average\n",
    "    df['EMA(50)'] = ta.trend.EMAIndicator(df['CLOSE'],\n",
    "                                            window = 50).ema_indicator()\n",
    "    df['POSITION_EMA(50)'] = df.apply(lambda x: 1 if x['EMA(50)'] >= x['HIGH']\n",
    "                                                                else (2 if x['EMA(50)'] >= max(x['OPEN'], x['CLOSE'])\n",
    "                                                                else (3 if x['EMA(50)'] >= min(x['OPEN'], x['CLOSE'])\n",
    "                                                                else (4 if x['EMA(50)'] >= x['LOW'] else 5)\n",
    "                                                                    )),\n",
    "                                                axis = 1)\n",
    "\n",
    "\n",
    "    df['EMA(200)'] = ta.trend.EMAIndicator(df['CLOSE'],\n",
    "                                            window = 200).ema_indicator()\n",
    "    df['POSITION_EMA(200)'] = df.apply(lambda x: 1 if x['EMA(200)'] >= x['HIGH']\n",
    "                                                                else (2 if x['EMA(200)'] >= max(x['OPEN'], x['CLOSE'])\n",
    "                                                                else (3 if x['EMA(200)'] >= min(x['OPEN'], x['CLOSE'])\n",
    "                                                                else (4 if x['EMA(200)'] >= x['LOW'] else 5)\n",
    "                                                                    )),\n",
    "                                                axis = 1)\n",
    "\n",
    "\n",
    "\n",
    "    #returns\n",
    "    df['Ret(t)'] = 100*(df['CLOSE'] - df['CLOSE'].shift(1))/df['CLOSE'].shift(1)\n",
    "\n",
    "    return(df)"
   ]
  },
  {
   "cell_type": "code",
   "execution_count": null,
   "id": "qjJMFmjFMoAf",
   "metadata": {
    "id": "qjJMFmjFMoAf"
   },
   "outputs": [],
   "source": [
    "def plot(df):\n",
    "\n",
    "    # Assuming df is your DataFrame with columns: 'OPEN', 'HIGH', 'LOW', 'CLOSE', 'VOLUME', 'EMA50', 'EMA200', 'RSI'\n",
    "\n",
    "    # Define subplot heights and widths\n",
    "    subplot_heights = [600, 100, 100]  # Adjust these values based on your preferences\n",
    "    subplot_widths = [1]  # Only one column\n",
    "\n",
    "    # Create subplot with 3 rows and 1 column\n",
    "    fig = make_subplots(rows=3,\n",
    "                        cols=1,\n",
    "                        shared_xaxes=True,\n",
    "                        subplot_titles=('Candlestick with EMA Lines', 'Volume Chart', 'RSI Chart'),\n",
    "                        row_heights=subplot_heights,\n",
    "                        column_widths=subplot_widths,\n",
    "                        vertical_spacing = 0.05,  # Set the spacing between rows\n",
    "                        )\n",
    "\n",
    "    # Subplot 1: Candlestick chart with EMA lines\n",
    "    cd = go.Candlestick(x=df.index,\n",
    "                    open=df['OPEN'],\n",
    "                    high=df['HIGH'],\n",
    "                    low=df['LOW'],\n",
    "                    close=df['CLOSE'],\n",
    "                    increasing=dict(line=dict(color='green', width = 2)),  # Adjust the line attributes for increasing candles\n",
    "                    decreasing=dict(line=dict(color='red', width = 2)),\n",
    "                    name='Candlesticks')\n",
    "\n",
    "    ema50 = go.Scatter(x=df.index,\n",
    "                             y=df['EMA(50)'],\n",
    "                             mode='lines',\n",
    "                             name='EMA50',\n",
    "                             line=dict(color='blue', width = 2))\n",
    "\n",
    "    ema200 = go.Scatter(x=df.index,\n",
    "                             y=df['EMA(200)'],\n",
    "                             mode='lines',\n",
    "                             name='EMA200',\n",
    "                             line=dict(color='orange', width = 2))\n",
    "\n",
    "\n",
    "    fig.add_trace(cd, row=1, col=1)\n",
    "    fig.add_trace(ema50,\n",
    "                  row=1,\n",
    "                  col=1)\n",
    "    fig.add_trace(ema200,\n",
    "                  row=1,\n",
    "                  col=1)\n",
    "\n",
    "    # Subplot 2: Volume bar chart\n",
    "    vol = go.Bar(x=df.index,\n",
    "                         y=df['VOLUME'],\n",
    "                         name='Volume',\n",
    "                         marker=dict(color='blue'),\n",
    "                         #width = 0\n",
    "                         )\n",
    "\n",
    "    av50 = go.Scatter(x=df.index,\n",
    "                             y=df['AVG_VOL(50)'],\n",
    "                             mode='lines',\n",
    "                             name='AVG_VOL50',\n",
    "                             line=dict(color='red', width = 2))\n",
    "\n",
    "    av200 = go.Scatter(x=df.index,\n",
    "                             y=df['AVG_VOL(200)'],\n",
    "                             mode='lines',\n",
    "                             name='AVG_VOL200',\n",
    "                             line=dict(color='orange', width = 2))\n",
    "\n",
    "\n",
    "    fig.add_trace(vol,\n",
    "                  row=2,\n",
    "                  col=1)\n",
    "    fig.add_trace(av50,\n",
    "                  row=2,\n",
    "                  col=1)\n",
    "    fig.add_trace(av200,\n",
    "                  row=2,\n",
    "                  col=1)\n",
    "\n",
    "    # Subplot 3: RSI chart with threshold lines\n",
    "\n",
    "    rsi = go.Scatter(x=df.index,\n",
    "                             y=df['RSI'],\n",
    "                             mode='lines',\n",
    "                             name='RSI',\n",
    "                             line=dict(color='mediumpurple', width = 2))\n",
    "\n",
    "    rsi30 = dict(type='line',\n",
    "                       x0=df.index.min(),\n",
    "                       x1=df.index.max(),\n",
    "                       y0=30,\n",
    "                       y1=30,\n",
    "                       line=dict(color='white', width=1, dash='dash'))\n",
    "\n",
    "    rsi70 = dict(type='line',\n",
    "                       x0=df.index.min(),\n",
    "                       x1=df.index.max(),\n",
    "                       y0=70,\n",
    "                       y1=70,\n",
    "                       line=dict(color='white', width=1, dash='dash'))\n",
    "\n",
    "    fig.add_trace(rsi,\n",
    "                  row=3,\n",
    "                  col=1)\n",
    "\n",
    "    fig.add_shape(rsi30,\n",
    "                  row=3,\n",
    "                  col=1)\n",
    "\n",
    "    fig.add_shape(rsi70, row=3, col=1)\n",
    "\n",
    "\n",
    "    # Add darker shaded area between 30 and 70 in the RSI plot\n",
    "    fig.add_shape(\n",
    "        type='rect',\n",
    "        x0=df.index.min(),\n",
    "        x1=df.index.max(),\n",
    "        y0=30,\n",
    "        y1=70,\n",
    "        fillcolor='rgba(200, 160, 255, 0.2)',  # Light purple color with opacity\n",
    "        line=dict(color='rgba(255, 255, 255, 0)'),  # Set border color and opacity\n",
    "        row=3,\n",
    "        col=1\n",
    "    )\n",
    "\n",
    "    # Add slider\n",
    "    fig.update_layout(\n",
    "        xaxis=dict(\n",
    "            rangeslider=dict(\n",
    "                visible=False,\n",
    "                thickness=0.05,  # Adjust the thickness of the slider\n",
    "                bgcolor='rgba(0,0,0,0.1)',  # Set the background color of the slider\n",
    "            ),\n",
    "            type='date',\n",
    "            ),\n",
    "\n",
    "        height = 800,\n",
    "        width = 1300,\n",
    "        plot_bgcolor='black',  # Transparent background\n",
    "        paper_bgcolor='black',  # Transparent paper background\n",
    "        font = dict(color = 'white'),\n",
    "        legend = dict(x = 1.01, y = 1)\n",
    "    )\n",
    "\n",
    "    # Fix y-axis range for each subplot\n",
    "    fig.update_yaxes(autorange = True, range=[df['CLOSE'].min(), df['CLOSE'].max()], row=1, col=1)  # Adjust as needed\n",
    "    fig.update_yaxes(autorange = True, range=[0, df['VOLUME'].max()], row=2, col=1)  # Adjust as needed\n",
    "    fig.update_yaxes(autorange = True, range=[0, 100], row=3, col=1)  # Assuming RSI values range from 0 to 100\n",
    "\n",
    "\n",
    "    fig.update_xaxes(\n",
    "        mirror=True,\n",
    "        ticks='outside',\n",
    "        showline=True,\n",
    "        linecolor='white',\n",
    "        gridcolor='grey',\n",
    "        rangebreaks=[\n",
    "            dict(bounds=[\"sat\", \"mon\"]),  # Exclude weekends\n",
    "            dict(bounds=[15, 9], pattern=\"hour\"),  # hide hours outside of 9:00 - 15:00\n",
    "            dict(bounds=[12, 13], pattern=\"hour\"),  # hide hours outside of 12:00 - 13:00\n",
    "        ]\n",
    "    )\n",
    "\n",
    "    fig.update_yaxes(\n",
    "        mirror=True,\n",
    "        ticks='outside',\n",
    "        showline=True,\n",
    "        linecolor='white',\n",
    "        gridcolor='grey'\n",
    "    )\n",
    "\n",
    "    # Write HTML output\n",
    "    # fig.write_html(f'{path}/plot.html')\n",
    "\n",
    "    # Show the figure\n",
    "    fig.show()\n"
   ]
  },
  {
   "cell_type": "code",
   "execution_count": null,
   "id": "PsjXVbOWGmIQ",
   "metadata": {
    "id": "PsjXVbOWGmIQ"
   },
   "outputs": [],
   "source": [
    "df_1_hour = prepare_df(df, timeframe = '1H')"
   ]
  },
  {
   "cell_type": "code",
   "execution_count": null,
   "id": "boCHxq4jxyo_",
   "metadata": {
    "colab": {
     "base_uri": "https://localhost:8080/"
    },
    "executionInfo": {
     "elapsed": 2867,
     "status": "ok",
     "timestamp": 1705750865214,
     "user": {
      "displayName": "Anh Nguyễn Tuấn",
      "userId": "04855194201394650471"
     },
     "user_tz": -420
    },
    "id": "boCHxq4jxyo_",
    "outputId": "1e53d332-653f-4200-f794-9f9af9c09976"
   },
   "outputs": [],
   "source": [
    "plot(df_1_hour)"
   ]
  },
  {
   "cell_type": "markdown",
   "id": "Sz-hH0g2FY1Q",
   "metadata": {
    "id": "Sz-hH0g2FY1Q"
   },
   "source": [
    "# Support/ Resistance"
   ]
  },
  {
   "cell_type": "code",
   "execution_count": null,
   "id": "6HEpP4xkHkHU",
   "metadata": {
    "id": "6HEpP4xkHkHU"
   },
   "outputs": [],
   "source": [
    "def prepare_df_sr(sr_range, patience_range, patience_time, df_observe):\n",
    "\n",
    "    cnt = 0\n",
    "\n",
    "    bins = []\n",
    "\n",
    "    while df_observe['LOW'].min() + cnt*sr_range <= df_observe['HIGH'].max():\n",
    "        bins.append(df_observe['LOW'].min() + cnt*sr_range)\n",
    "        cnt += 1\n",
    "\n",
    "    df_observe['PRICE_RANGE'] = pd.cut(df_observe['AVG_PRICE'], bins = bins)\n",
    "\n",
    "    price_hist = pd.pivot_table(df_observe.copy(), index = 'PRICE_RANGE', values = 'AVG_PRICE', aggfunc = 'count')\n",
    "    price_hist.columns = ['NUM_TOUCH']\n",
    "    price_hist['PRICE_RANKING'] = range(1, len(price_hist) + 1, 1)\n",
    "    price_hist['CUMULATIVE_TOUCH'] = price_hist['NUM_TOUCH'].cumsum()\n",
    "\n",
    "    price_hist['PERC_NUM_TOUCH'] = price_hist['NUM_TOUCH']/price_hist['NUM_TOUCH'].sum()*100\n",
    "    price_hist['PERC_CUM_NUM_TOUCH'] = price_hist['CUMULATIVE_TOUCH']/price_hist['NUM_TOUCH'].sum()*100\n",
    "\n",
    "    price_hist = price_hist[['PRICE_RANKING', 'NUM_TOUCH', 'CUMULATIVE_TOUCH', 'PERC_NUM_TOUCH', 'PERC_CUM_NUM_TOUCH']]\n",
    "\n",
    "\n",
    "    #=================== ADJUST POINTS 1 ===================#\n",
    "    '''\n",
    "    Percentile rank based on the number of times prices touch the range;\n",
    "    +0.5 or -0.5 based on patience_range, i.e. +0.5 to ranks that is maximum within patience_range and -1 otherwise\n",
    "    --> eliminate the chances that 2 consecutive ranges being support and/or resistance.\n",
    "    '''\n",
    "    price_hist['RANK_NUM_TOUCH'] = price_hist['PERC_NUM_TOUCH'].rank(method = 'first', pct = True)\n",
    "\n",
    "    # Create a forward rolling view\n",
    "    price_hist['ROLL_RANK_FORWARD'] = price_hist['RANK_NUM_TOUCH'].rolling(window = patience_range).max()\n",
    "\n",
    "    # Create a backward rolling view by reversing the DataFrame and applying forward rolling\n",
    "    price_hist['ROLL_RANK_BACKWARD'] = price_hist[::-1]['RANK_NUM_TOUCH'].rolling(window = patience_range).max()\n",
    "    price_hist['ADJUST_POINTS_1'] = np.where((price_hist['ROLL_RANK_FORWARD'] == price_hist['ROLL_RANK_BACKWARD']) &\n",
    "                                       (price_hist['RANK_NUM_TOUCH'] > 0) &\n",
    "                                       (price_hist['ROLL_RANK_FORWARD'] == price_hist['RANK_NUM_TOUCH']),\n",
    "                                    0.5, -1)\n",
    "\n",
    "    #=================== ADJUST POINTS 2 ===================#\n",
    "    '''\n",
    "    Points based on the number of times prices REVERT or BREAK OUT of the range;\n",
    "    At each time step, flag -1 if price is less than the range, 0 if it is within the range and 1 otherwise;\n",
    "    FORWARD_TREND will be sum of the flag over the forward patience_time, and similarly for PREV_TREND;\n",
    "    The product between FORWARDTREND and PREV_TREND >= 0 at the time price within the range --> Add 1 points to the range; otherwise -2.\n",
    "    '''\n",
    "    ranges = price_hist.copy().index\n",
    "\n",
    "    for r in ranges:\n",
    "        df_observe[r] = df_observe['AVG_PRICE'].apply(lambda x: -1 if x <= r.left\n",
    "                                                else (0 if x in r\n",
    "                                                        else 1\n",
    "                                                        ))\n",
    "        # Create a forward rolling view\n",
    "        df_observe[f'{r}_FORWARD_TREND'] = df_observe[r].rolling(window = patience_time).sum()\n",
    "\n",
    "        # Create a backward rolling view by reversing the DataFrame and applying forward rolling\n",
    "        df_observe[f'{r}_PREV_TREND'] = df_observe[::-1][r].rolling(window = patience_time).sum()\n",
    "\n",
    "        # Adjust points 2 based on revert and break out\n",
    "        df_observe[f'{r}_REVERT_POINTS'] = np.where((df_observe[r] == 0) & (df_observe[f'{r}_FORWARD_TREND']*df_observe[f'{r}_FORWARD_TREND'] >= 0),\n",
    "                                            1,\n",
    "                                            -2)\n",
    "\n",
    "    adjust2 = pd.DataFrame(df_observe.filter(like = 'REVERT_POINTS').sum().rank(pct = True, method = 'first'))\n",
    "\n",
    "    adjust2.index = ranges\n",
    "\n",
    "    adjust2.columns = ['ADJUST_POINTS_2']\n",
    "\n",
    "    price_hist = pd.concat([price_hist, adjust2], axis = 1)\n",
    "\n",
    "    price_hist['SR_SCORE'] = price_hist['RANK_NUM_TOUCH'] + price_hist['ADJUST_POINTS_1'] + price_hist['ADJUST_POINTS_2']\n",
    "    price_hist['SR_RANK'] = price_hist['SR_SCORE'].rank(ascending = False)\n",
    "\n",
    "    price_hist = price_hist.drop(columns = ['ROLL_RANK_FORWARD', 'ROLL_RANK_BACKWARD'])\n",
    "\n",
    "    return(price_hist)"
   ]
  },
  {
   "cell_type": "code",
   "execution_count": null,
   "id": "gy9WZK385zaA",
   "metadata": {
    "id": "gy9WZK385zaA"
   },
   "outputs": [],
   "source": [
    "def plot_sr(df_observe, sr_range, patience_range, patience_time, max_num_sr, cutoff):\n",
    "    price_hist = prepare_df_sr(df_observe = df_observe,\n",
    "                               sr_range = sr_range,\n",
    "                               patience_range = patience_range,\n",
    "                               patience_time = patience_time)\n",
    "\n",
    "    # Assuming df is your DataFrame with columns: 'OPEN', 'HIGH', 'LOW', 'CLOSE', 'VOLUME', 'EMA50', 'EMA200', 'RSI'\n",
    "\n",
    "    # Define subplot heights and widths\n",
    "    subplot_heights = [1]  # Adjust these values based on your preferences\n",
    "    subplot_widths = [1]  # Only one column\n",
    "\n",
    "    # Create subplot with 3 rows and 1 column\n",
    "    fig = make_subplots(rows=1,\n",
    "                        cols=1,\n",
    "                        shared_xaxes=True,\n",
    "                        subplot_titles=('Candlestick with EMA Lines'),\n",
    "                        row_heights=subplot_heights,\n",
    "                        column_widths=subplot_widths,\n",
    "                        vertical_spacing = 0.05,  # Set the spacing between rows\n",
    "                        )\n",
    "\n",
    "    # Subplot 1: Candlestick chart with EMA lines\n",
    "    cd = go.Candlestick(x=df_observe.index,\n",
    "                    open=df_observe['OPEN'],\n",
    "                    high=df_observe['HIGH'],\n",
    "                    low=df_observe['LOW'],\n",
    "                    close=df_observe['CLOSE'],\n",
    "                    increasing=dict(line=dict(color='green', width = 2)),  # Adjust the line attributes for increasing candles\n",
    "                    decreasing=dict(line=dict(color='red', width = 2)),\n",
    "                    name='Candlesticks')\n",
    "\n",
    "    fig.add_trace(cd, row=1, col=1)\n",
    "\n",
    "    for idx, i in enumerate(price_hist.index):\n",
    "        if price_hist.loc[i, 'SR_RANK'] <= max_num_sr and price_hist.loc[i, 'SR_SCORE'] >= cutoff:\n",
    "            uprange = dict(type='line',\n",
    "                                x0=df_observe.index.min(),\n",
    "                                x1=df_observe.index.max(),\n",
    "                                y0=price_hist.index[idx].right,\n",
    "                                y1=price_hist.index[idx].right,\n",
    "                                line=dict(color='white', width=1, dash='dash'))\n",
    "\n",
    "            lowrange = dict(type='line',\n",
    "                            x0=df_observe.index.min(),\n",
    "                            x1=df_observe.index.max(),\n",
    "                            y0=price_hist.index[idx].left,\n",
    "                            y1=price_hist.index[idx].left,\n",
    "                            line=dict(color='white', width=1, dash='dash'))\n",
    "\n",
    "            fig.add_shape(uprange,\n",
    "                        row=1,\n",
    "                        col=1)\n",
    "\n",
    "            fig.add_shape(lowrange,\n",
    "                        row=1,\n",
    "                        col=1)\n",
    "\n",
    "            fig.add_shape(\n",
    "                type='rect',\n",
    "                x0=df_observe.index.min(),\n",
    "                x1=df_observe.index.max(),\n",
    "                y0=price_hist.index[idx].left,\n",
    "                y1=price_hist.index[idx].right,\n",
    "                fillcolor='rgba(200, 160, 255, 0.2)',  # Light purple color with opacity\n",
    "                line=dict(color='rgba(255, 255, 255, 0)'),  # Set border color and opacity\n",
    "                row=1,\n",
    "                col=1\n",
    "            )\n",
    "\n",
    "\n",
    "    # Add slider\n",
    "    fig.update_layout(\n",
    "        xaxis=dict(\n",
    "            rangeslider=dict(\n",
    "                visible=False,\n",
    "                thickness=0.05,  # Adjust the thickness of the slider\n",
    "                bgcolor='rgba(0,0,0,0.1)',  # Set the background color of the slider\n",
    "            ),\n",
    "            type='date',\n",
    "            ),\n",
    "\n",
    "        height = 800,\n",
    "        width = 1300,\n",
    "        plot_bgcolor='black',  # Transparent background\n",
    "        paper_bgcolor='black',  # Transparent paper background\n",
    "        font = dict(color = 'white'),\n",
    "        legend = dict(x = 1.01, y = 1),\n",
    "        hovermode=\"x unified\"\n",
    "\n",
    "    )\n",
    "\n",
    "    # Fix y-axis range for each subplot\n",
    "    fig.update_yaxes(autorange = True, range=[df_observe['CLOSE'].min(), df_observe['CLOSE'].max()], row=1, col=1)  # Adjust as needed\n",
    "\n",
    "    fig.update_xaxes(\n",
    "        mirror=True,\n",
    "        ticks='outside',\n",
    "        showline=True,\n",
    "        linecolor='white',\n",
    "        gridcolor='grey',\n",
    "        rangebreaks=[\n",
    "            dict(bounds=[\"sat\", \"mon\"]),  # Exclude weekends\n",
    "            dict(bounds=[15, 9], pattern=\"hour\"),  # hide hours outside of 9:00 - 15:00\n",
    "            dict(bounds=[12, 13], pattern=\"hour\"),  # hide hours outside of 12:00 - 13:00\n",
    "        ]\n",
    "    )\n",
    "\n",
    "    fig.update_yaxes(\n",
    "        mirror=True,\n",
    "        ticks='outside',\n",
    "        showline=True,\n",
    "        linecolor='white',\n",
    "        gridcolor='grey'\n",
    "    )\n",
    "\n",
    "    # sum_score = price_hist.loc[(price_hist['SR_RANK'] <= max_num_sr) & (price_hist['SR_SCORE'] >= cutoff), 'SR_SCORE'].sum()\n",
    "\n",
    "    # fig.add_annotation(\n",
    "    # text=sum_score,\n",
    "    # x=df_observe.index.min(),  # X-coordinate of the text box\n",
    "    # y=df_observe['HIGH'].max(),  # Y-coordinate of the text box\n",
    "    # showarrow=True,\n",
    "    # arrowhead=7,\n",
    "    # ax=0,\n",
    "    # ay=-40\n",
    "    # )\n",
    "\n",
    "    # Write HTML output\n",
    "    # fig.write_html(f'{path}/plot.html')\n",
    "\n",
    "    # Show the figure\n",
    "    fig.show()"
   ]
  },
  {
   "cell_type": "code",
   "execution_count": null,
   "id": "l3jzjAa9txXG",
   "metadata": {
    "id": "l3jzjAa9txXG"
   },
   "outputs": [],
   "source": [
    "def sr_score(param, df_observe):\n",
    "    price_hist = prepare_df_sr(sr_range = param['sr_range'],\n",
    "                    patience_range = param['patience_range'],\n",
    "                    patience_time = param['patience_time'],\n",
    "                    df_observe = df_observe)\n",
    "\n",
    "    sum_score = price_hist.loc[(price_hist['SR_RANK'] <= param['max_num_range']) & (price_hist['SR_SCORE'] >= param['cutoff']), 'SR_SCORE'].sum()\n",
    "    return(sum_score)"
   ]
  },
  {
   "cell_type": "code",
   "execution_count": null,
   "id": "gDhneQdSjoRo",
   "metadata": {
    "id": "gDhneQdSjoRo"
   },
   "outputs": [],
   "source": [
    "def search_sr(df_observe):\n",
    "    from hyperopt import tpe, hp, fmin, STATUS_OK,Trials\n",
    "    from hyperopt.pyll.base import scope\n",
    "\n",
    "    pr_arr = [3, 4, 5]\n",
    "    pt_arr = [3, 4, 5]\n",
    "    max_num_arr = [3, 4, 5]\n",
    "\n",
    "    space = {\n",
    "        \"sr_range\": hp.uniform(\"sr_range\", 3, 5),\n",
    "        \"patience_range\": hp.choice(\"patience_range\", [3, 4, 5]),\n",
    "        \"patience_time\": hp.choice(\"patience_time\", [3, 4, 5]),\n",
    "        \"max_num_range\": hp.choice(\"max_num_range\", [3, 4, 5]),\n",
    "        \"cutoff\": hp.uniform(\"cutoff\", 2, 5)\n",
    "    }\n",
    "\n",
    "\n",
    "    def hyperparameter_tuning(params):\n",
    "        score = sr_score(params, df_observe.copy())\n",
    "        return {\"loss\": -score, \"status\": STATUS_OK}\n",
    "\n",
    "    # Initialize trials object\n",
    "    trials = Trials()\n",
    "\n",
    "    best = fmin(\n",
    "        fn=hyperparameter_tuning,\n",
    "        space = space,\n",
    "        algo=tpe.suggest,\n",
    "        max_evals=200,\n",
    "        trials=trials\n",
    "    )\n",
    "\n",
    "    best['patience_range'] = pr_arr[best['patience_range']]\n",
    "    best['patience_time'] = pr_arr[best['patience_time']]\n",
    "    best['max_num_range'] = pr_arr[best['max_num_range']]\n",
    "\n",
    "\n",
    "    return(best)"
   ]
  },
  {
   "cell_type": "code",
   "execution_count": null,
   "id": "Vq9oeUqsjnwB",
   "metadata": {
    "colab": {
     "base_uri": "https://localhost:8080/"
    },
    "executionInfo": {
     "elapsed": 54206,
     "status": "ok",
     "timestamp": 1705750919393,
     "user": {
      "displayName": "Anh Nguyễn Tuấn",
      "userId": "04855194201394650471"
     },
     "user_tz": -420
    },
    "id": "Vq9oeUqsjnwB",
    "outputId": "b24be404-0e75-49c7-baf6-b273b0bf42e7"
   },
   "outputs": [],
   "source": [
    "best_params = search_sr(df_1_hour.iloc[2234: 2434, :].copy())"
   ]
  },
  {
   "cell_type": "code",
   "execution_count": null,
   "id": "zn2evlNFnBik",
   "metadata": {
    "colab": {
     "base_uri": "https://localhost:8080/"
    },
    "executionInfo": {
     "elapsed": 22,
     "status": "ok",
     "timestamp": 1705750919394,
     "user": {
      "displayName": "Anh Nguyễn Tuấn",
      "userId": "04855194201394650471"
     },
     "user_tz": -420
    },
    "id": "zn2evlNFnBik",
    "outputId": "2c1f4e92-d929-457e-8324-ea77aa54d9a4"
   },
   "outputs": [],
   "source": [
    "best_params"
   ]
  },
  {
   "cell_type": "code",
   "execution_count": null,
   "id": "c4e5c449-9f52-4ac3-a1d8-e4a741a225a4",
   "metadata": {},
   "outputs": [],
   "source": [
    "price_hist = prepare_df_sr(df_observe = df_1_hour.iloc[2234: 2434, :].copy(),\n",
    "                           sr_range = best_params['sr_range'],\n",
    "                           patience_range = best_params['patience_range'],\n",
    "                           patience_time = best_params['patience_time'],\n",
    "                          )"
   ]
  },
  {
   "cell_type": "code",
   "execution_count": null,
   "id": "OiLNIQajEve_",
   "metadata": {
    "colab": {
     "base_uri": "https://localhost:8080/"
    },
    "executionInfo": {
     "elapsed": 1051,
     "status": "ok",
     "timestamp": 1705750920430,
     "user": {
      "displayName": "Anh Nguyễn Tuấn",
      "userId": "04855194201394650471"
     },
     "user_tz": -420
    },
    "id": "OiLNIQajEve_",
    "outputId": "9fe69f13-4193-45c4-c883-421eb7dfcb6c"
   },
   "outputs": [],
   "source": [
    "plot_sr(df_observe = df_1_hour.iloc[2234: 2434, :].copy(),\n",
    "        sr_range = best_params['sr_range'],\n",
    "        patience_range = best_params['patience_range'],\n",
    "        patience_time = best_params['patience_time'],\n",
    "        max_num_sr = best_params['max_num_range'],\n",
    "        cutoff = best_params['cutoff'],\n",
    "        )"
   ]
  },
  {
   "cell_type": "markdown",
   "id": "ip08hcfiZV_e",
   "metadata": {
    "id": "ip08hcfiZV_e"
   },
   "source": [
    "# Extrema"
   ]
  },
  {
   "cell_type": "code",
   "execution_count": null,
   "id": "tS8hvCwUM2Bz",
   "metadata": {
    "id": "tS8hvCwUM2Bz"
   },
   "outputs": [],
   "source": [
    "from scipy.signal import argrelmin\n",
    "from scipy.signal import argrelmax"
   ]
  },
  {
   "cell_type": "code",
   "execution_count": null,
   "id": "Q-sE_1j9EkcW",
   "metadata": {
    "id": "Q-sE_1j9EkcW"
   },
   "outputs": [],
   "source": [
    "test = df_1_hour.iloc[2234: 2434, :].copy()"
   ]
  },
  {
   "cell_type": "code",
   "execution_count": null,
   "id": "yI8JMIhfEbV_",
   "metadata": {
    "colab": {
     "base_uri": "https://localhost:8080/"
    },
    "executionInfo": {
     "elapsed": 570,
     "status": "ok",
     "timestamp": 1705750920972,
     "user": {
      "displayName": "Anh Nguyễn Tuấn",
      "userId": "04855194201394650471"
     },
     "user_tz": -420
    },
    "id": "yI8JMIhfEbV_",
    "outputId": "68bd1a89-4bf7-44a7-cb57-7b9424e3034d"
   },
   "outputs": [],
   "source": [
    "order = 10\n",
    "print(order)\n",
    "\n",
    "local_max_indices = argrelmax(data = test.iloc[order: -order, :]['HIGH'].values, axis = 0, order = order)[0]\n",
    "local_min_indices = argrelmin(data = test.iloc[order: -order, :]['LOW'].values, axis = 0, order = order)[0]\n",
    "\n",
    "# Assuming df is your DataFrame with columns: 'OPEN', 'HIGH', 'LOW', 'CLOSE', 'VOLUME', 'EMA50', 'EMA200', 'RSI'\n",
    "\n",
    "# Define subplot heights and widths\n",
    "subplot_heights = [1]  # Adjust these values based on your preferences\n",
    "subplot_widths = [1]  # Only one column\n",
    "\n",
    "# Create subplot with 3 rows and 1 column\n",
    "fig = make_subplots(rows=1,\n",
    "                    cols=1,\n",
    "                    shared_xaxes=True,\n",
    "                    subplot_titles=('Candlestick with EMA Lines'),\n",
    "                    row_heights=subplot_heights,\n",
    "                    column_widths=subplot_widths,\n",
    "                    vertical_spacing = 0.05,  # Set the spacing between rows\n",
    "                    )\n",
    "\n",
    "# Subplot 1: Candlestick chart with EMA lines\n",
    "cd = go.Candlestick(x=test.index,\n",
    "                    open=test['OPEN'],\n",
    "                    high=test['HIGH'],\n",
    "                    low=test['LOW'],\n",
    "                    close=test['CLOSE'],\n",
    "                    increasing=dict(line=dict(color='green', width = 2)),  # Adjust the line attributes for increasing candles\n",
    "                    decreasing=dict(line=dict(color='red', width = 2)),\n",
    "                    name='Candlesticks'\n",
    "                    )\n",
    "\n",
    "fig.add_trace(cd, row=1, col=1)\n",
    "\n",
    "\n",
    "# Add slider\n",
    "fig.update_layout(\n",
    "    xaxis=dict(\n",
    "        rangeslider=dict(\n",
    "            visible=False,\n",
    "            thickness=0.05,  # Adjust the thickness of the slider\n",
    "            bgcolor='rgba(0,0,0,0.1)',  # Set the background color of the slider\n",
    "        ),\n",
    "        type='date',\n",
    "        ),\n",
    "\n",
    "    height = 800,\n",
    "    width = 1300,\n",
    "    plot_bgcolor='black',  # Transparent background\n",
    "    paper_bgcolor='black',  # Transparent paper background\n",
    "    font = dict(color = 'white'),\n",
    "    legend = dict(x = 1.01, y = 1)\n",
    ")\n",
    "\n",
    "# Fix y-axis range for each subplot\n",
    "fig.update_yaxes(autorange = True, range=[test['CLOSE'].min(), test['CLOSE'].max()], row=1, col=1)  # Adjust as needed\n",
    "\n",
    "fig.update_xaxes(\n",
    "    mirror=True,\n",
    "    ticks='outside',\n",
    "    showline=True,\n",
    "    linecolor='white',\n",
    "    gridcolor='grey',\n",
    "    rangebreaks=[\n",
    "        dict(bounds=[\"sat\", \"mon\"]),  # Exclude weekends\n",
    "        dict(bounds=[15, 9], pattern=\"hour\"),  # hide hours outside of 9:00 - 15:00\n",
    "        dict(bounds=[12, 13], pattern=\"hour\"),  # hide hours outside of 12:00 - 13:00\n",
    "    ]\n",
    ")\n",
    "\n",
    "fig.update_yaxes(\n",
    "    mirror=True,\n",
    "    ticks='outside',\n",
    "    showline=True,\n",
    "    linecolor='white',\n",
    "    gridcolor='grey'\n",
    ")\n",
    "\n",
    "for id in local_max_indices:\n",
    "    fig.add_annotation(\n",
    "        text='Local max',\n",
    "        x=test.index[id + order],  # X-coordinate of the text box\n",
    "        y=test.iloc[id + order,:]['HIGH'],  # Y-coordinate of the text box\n",
    "        showarrow=True,\n",
    "        arrowhead=1,\n",
    "        arrowcolor = 'white',\n",
    "        arrowside = 'end',\n",
    "        opacity = 0.8,\n",
    "        ax=0,\n",
    "        ay=-45\n",
    "    )\n",
    "\n",
    "for id in local_min_indices:\n",
    "    fig.add_annotation(\n",
    "        text='Local min',\n",
    "        x=test.index[id + order],  # X-coordinate of the text box\n",
    "        y=test.iloc[id + order,:]['LOW'],  # Y-coordinate of the text box\n",
    "        showarrow=True,\n",
    "        arrowhead=1,\n",
    "        arrowcolor = 'white',\n",
    "        arrowside = 'end',\n",
    "        opacity = 0.8,\n",
    "        ax=0,\n",
    "        ay=45\n",
    "    )\n",
    "\n",
    "# Write HTML output\n",
    "# fig.write_html(f'{path}/plot.html')\n",
    "\n",
    "# Show the figure\n",
    "fig.show()"
   ]
  },
  {
   "cell_type": "markdown",
   "id": "Xmegalu5MCas",
   "metadata": {
    "id": "Xmegalu5MCas"
   },
   "source": [
    "# All-time, 52-week high/ low"
   ]
  },
  {
   "cell_type": "code",
   "execution_count": null,
   "id": "dq0OMXBFMIqj",
   "metadata": {
    "id": "dq0OMXBFMIqj"
   },
   "outputs": [],
   "source": [
    "test = df_1_hour.copy()"
   ]
  },
  {
   "cell_type": "code",
   "execution_count": null,
   "id": "_TJwJfYMNwaV",
   "metadata": {
    "id": "_TJwJfYMNwaV"
   },
   "outputs": [],
   "source": [
    "all_high = df['HIGH'].max()\n",
    "all_low = df['LOW'].min()"
   ]
  },
  {
   "cell_type": "code",
   "execution_count": null,
   "id": "U5Pe00PlMIn7",
   "metadata": {
    "colab": {
     "base_uri": "https://localhost:8080/"
    },
    "executionInfo": {
     "elapsed": 22,
     "status": "ok",
     "timestamp": 1705750920974,
     "user": {
      "displayName": "Anh Nguyễn Tuấn",
      "userId": "04855194201394650471"
     },
     "user_tz": -420
    },
    "id": "U5Pe00PlMIn7",
    "outputId": "42dd948a-3cd4-4b4e-ff9e-197ddf5cca21"
   },
   "outputs": [],
   "source": [
    "# Assuming df is your DataFrame with columns: 'OPEN', 'HIGH', 'LOW', 'CLOSE', 'VOLUME', 'EMA50', 'EMA200', 'RSI'\n",
    "\n",
    "# Define subplot heights and widths\n",
    "subplot_heights = [1]  # Adjust these values based on your preferences\n",
    "subplot_widths = [1]  # Only one column\n",
    "\n",
    "# Create subplot with 3 rows and 1 column\n",
    "fig = make_subplots(rows=1,\n",
    "                    cols=1,\n",
    "                    shared_xaxes=True,\n",
    "                    subplot_titles=('Candlestick with EMA Lines'),\n",
    "                    row_heights=subplot_heights,\n",
    "                    column_widths=subplot_widths,\n",
    "                    vertical_spacing = 0.05,  # Set the spacing between rows\n",
    "                    )\n",
    "\n",
    "# Subplot 1: Candlestick chart with EMA lines\n",
    "cd = go.Candlestick(x=test.index,\n",
    "                    open=test['OPEN'],\n",
    "                    high=test['HIGH'],\n",
    "                    low=test['LOW'],\n",
    "                    close=test['CLOSE'],\n",
    "                    increasing=dict(line=dict(color='green', width = 2)),  # Adjust the line attributes for increasing candles\n",
    "                    decreasing=dict(line=dict(color='red', width = 2)),\n",
    "                    name='Candlesticks'\n",
    "                    )\n",
    "\n",
    "fig.add_trace(cd, row=1, col=1)\n",
    "\n",
    "\n",
    "all_high_line = dict(type='line',\n",
    "                     x0=test.index.min(),\n",
    "                     x1=test.index.max(),\n",
    "                     y0=all_high,\n",
    "                     y1=all_high,\n",
    "                     line=dict(color='white', width=1, dash='dash'))\n",
    "\n",
    "fig.add_shape(all_high_line,\n",
    "              row=1,\n",
    "              col=1)\n",
    "\n",
    "all_low_line = dict(type='line',\n",
    "                     x0=test.index.min(),\n",
    "                     x1=test.index.max(),\n",
    "                     y0=all_low,\n",
    "                     y1=all_low,\n",
    "                     line=dict(color='white', width=1, dash='dash'))\n",
    "\n",
    "fig.add_shape(all_low_line,\n",
    "              row=1,\n",
    "              col=1)\n",
    "\n",
    "\n",
    "\n",
    "# Add slider\n",
    "fig.update_layout(\n",
    "    xaxis=dict(\n",
    "        rangeslider=dict(\n",
    "            visible=False,\n",
    "            thickness=0.05,  # Adjust the thickness of the slider\n",
    "            bgcolor='rgba(0,0,0,0.1)',  # Set the background color of the slider\n",
    "        ),\n",
    "        type='date',\n",
    "        ),\n",
    "\n",
    "    height = 800,\n",
    "    width = 1300,\n",
    "    plot_bgcolor='black',  # Transparent background\n",
    "    paper_bgcolor='black',  # Transparent paper background\n",
    "    font = dict(color = 'white'),\n",
    "    legend = dict(x = 1.01, y = 1)\n",
    ")\n",
    "\n",
    "# Fix y-axis range for each subplot\n",
    "fig.update_yaxes(autorange = True, range=[test['CLOSE'].min(), test['CLOSE'].max()], row=1, col=1)  # Adjust as needed\n",
    "\n",
    "fig.update_xaxes(\n",
    "    mirror=True,\n",
    "    ticks='outside',\n",
    "    showline=True,\n",
    "    linecolor='white',\n",
    "    gridcolor='grey',\n",
    "    rangebreaks=[\n",
    "        dict(bounds=[\"sat\", \"mon\"]),  # Exclude weekends\n",
    "        dict(bounds=[15, 9], pattern=\"hour\"),  # hide hours outside of 9:00 - 15:00\n",
    "        dict(bounds=[12, 13], pattern=\"hour\"),  # hide hours outside of 12:00 - 13:00\n",
    "    ]\n",
    ")\n",
    "\n",
    "fig.update_yaxes(\n",
    "    mirror=True,\n",
    "    ticks='outside',\n",
    "    showline=True,\n",
    "    linecolor='white',\n",
    "    gridcolor='grey'\n",
    ")\n",
    "\n",
    "# Write HTML output\n",
    "# fig.write_html(f'{path}/plot.html')\n",
    "\n",
    "# Show the figure\n",
    "fig.show()"
   ]
  },
  {
   "cell_type": "markdown",
   "id": "feupn1BGQfU7",
   "metadata": {
    "id": "feupn1BGQfU7"
   },
   "source": [
    "# Asset score"
   ]
  },
  {
   "cell_type": "code",
   "execution_count": null,
   "id": "6B9qCVOAQvrz",
   "metadata": {
    "id": "6B9qCVOAQvrz"
   },
   "outputs": [],
   "source": [
    "\n",
    "# df_1_min = prepare_df(df,\n",
    "#                       timeframe = '1min')\n",
    "\n",
    "df_5_min = prepare_df(df,\n",
    "                      timeframe = '5min')\n",
    "\n",
    "# df_15_min = prepare_df(df,\n",
    "#                       timeframe = '15min')\n",
    "\n",
    "# df_1_hour = prepare_df(df,\n",
    "#                       timeframe = '1H')\n",
    "\n",
    "# df_1_day = prepare_df(df,\n",
    "#                       timeframe = '1D')\n"
   ]
  },
  {
   "cell_type": "code",
   "execution_count": null,
   "id": "UROy23Gk39a8",
   "metadata": {
    "id": "UROy23Gk39a8"
   },
   "outputs": [],
   "source": [
    "intraday_index = range(243 - 1) #243 minutes per day\n",
    "previous_days = 5"
   ]
  },
  {
   "cell_type": "code",
   "execution_count": null,
   "id": "c3ndnkzrAy-y",
   "metadata": {
    "colab": {
     "base_uri": "https://localhost:8080/"
    },
    "executionInfo": {
     "elapsed": 11,
     "status": "ok",
     "timestamp": 1705758182272,
     "user": {
      "displayName": "Anh Nguyễn Tuấn",
      "userId": "04855194201394650471"
     },
     "user_tz": -420
    },
    "id": "c3ndnkzrAy-y",
    "outputId": "77adc966-8db5-496c-b9bd-2c65e679b111"
   },
   "outputs": [],
   "source": [
    "intial_date = df_5_min.index[0]\n",
    "intial_date = datetime.strptime(str(intial_date + timedelta(days = previous_days))[:10], '%Y-%m-%d')\n",
    "\n",
    "last_date = df_5_min.index[-2]\n",
    "last_date = datetime.strptime(str(last_date)[:10], '%Y-%m-%d')\n",
    "\n",
    "intial_date, last_date"
   ]
  },
  {
   "cell_type": "code",
   "execution_count": null,
   "id": "NISLirEi5QaM",
   "metadata": {
    "id": "NISLirEi5QaM"
   },
   "outputs": [],
   "source": [
    "X_dict = dict()"
   ]
  },
  {
   "cell_type": "code",
   "execution_count": null,
   "id": "Rh2bnd4bC5ii",
   "metadata": {
    "colab": {
     "base_uri": "https://localhost:8080/"
    },
    "executionInfo": {
     "elapsed": 418,
     "status": "ok",
     "timestamp": 1705758710260,
     "user": {
      "displayName": "Anh Nguyễn Tuấn",
      "userId": "04855194201394650471"
     },
     "user_tz": -420
    },
    "id": "Rh2bnd4bC5ii",
    "outputId": "9f33755d-bcdc-4c85-ebd6-dfc16f33cda7"
   },
   "outputs": [],
   "source": [
    "cnt_day = 0\n",
    "\n",
    "while intial_date + timedelta(days = cnt_day) <= last_date:\n",
    "    T = intial_date + timedelta(days = cnt_day)\n",
    "    print(T)\n",
    "    sample = df_5_min.loc[T - timedelta(days=previous_days) : T + timedelta(days=1), :]\n",
    "\n",
    "    X_dict[f'{str(T - timedelta(days = 1))[:10]}'] = sample.loc[: T]\n",
    "    for idx in intraday_index:\n",
    "        X_dict[f'{str(T)[:10]}_ind[{idx}]'] = sample.loc[: T + timedelta(days = 1), :].iloc[: -243 + idx + 1, :]\n",
    "\n",
    "    cnt_day += 1"
   ]
  }
 ],
 "metadata": {
  "colab": {
   "collapsed_sections": [
    "2VlvZHQD40KG",
    "ySpWxX2U5Vqy",
    "Sz-hH0g2FY1Q",
    "ip08hcfiZV_e",
    "Xmegalu5MCas"
   ],
   "gpuType": "T4",
   "provenance": [],
   "toc_visible": true
  },
  "kernelspec": {
   "display_name": "Python 3 (ipykernel)",
   "language": "python",
   "name": "python3"
  },
  "language_info": {
   "codemirror_mode": {
    "name": "ipython",
    "version": 3
   },
   "file_extension": ".py",
   "mimetype": "text/x-python",
   "name": "python",
   "nbconvert_exporter": "python",
   "pygments_lexer": "ipython3",
   "version": "3.8.10"
  }
 },
 "nbformat": 4,
 "nbformat_minor": 5
}
