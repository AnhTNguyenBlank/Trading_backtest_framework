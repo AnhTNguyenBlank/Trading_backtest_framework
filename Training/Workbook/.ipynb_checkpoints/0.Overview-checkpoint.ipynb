{
 "cells": [
  {
   "cell_type": "markdown",
   "id": "d6a874fc-cde5-421c-9ce5-fa29657960b5",
   "metadata": {},
   "source": [
    "# Import packages"
   ]
  },
  {
   "cell_type": "code",
   "execution_count": null,
   "id": "390f32dc-525e-4272-9e1c-5259d53cdfbf",
   "metadata": {},
   "outputs": [],
   "source": [
    "import pandas as pd\n",
    "import numpy as np\n",
    "\n",
    "pd.set_option('display.max_columns', 999)\n",
    "pd.set_option('display.max_rows', 500)\n",
    "from scipy.stats import levy_stable\n",
    "\n",
    "from datetime import datetime\n",
    "from scipy.stats import kstest\n",
    "from scipy.stats import jarque_bera\n",
    "# from arch.unitroot import ADF\n",
    "from scipy.stats import kurtosis\n",
    "from scipy.stats import skew\n",
    "# from arch import arch_model\n",
    "\n",
    "import pickle\n",
    "\n",
    "import ta\n",
    "\n",
    "import matplotlib.pyplot as plt\n",
    "\n",
    "import plotly.graph_objects as go\n",
    "from plotly.subplots import make_subplots\n",
    "import webbrowser\n",
    "\n",
    "plt.style.use('classic')\n",
    "# pd.set_option('display.max_columns', 500)\n",
    "# pd.set_option('display.max_rows', 300)\n",
    "\n",
    "# %config inlinebackend.figure_format = 'svg'"
   ]
  },
  {
   "cell_type": "code",
   "execution_count": null,
   "id": "062b7a08-bd63-4bb8-a417-fd54fa6f32b4",
   "metadata": {},
   "outputs": [],
   "source": [
    "import sys\n",
    "\n",
    "sys.path.insert(0, 'D:/Intraday_trading')"
   ]
  },
  {
   "cell_type": "code",
   "execution_count": null,
   "id": "dd486a22-ddda-4d28-a304-4bf14e7ee902",
   "metadata": {},
   "outputs": [],
   "source": [
    "from scr.support import *"
   ]
  },
  {
   "cell_type": "markdown",
   "id": "6ba65158-e1f2-4f9f-a867-beb1960e6f8a",
   "metadata": {},
   "source": [
    "# Import and pre-processing data"
   ]
  },
  {
   "cell_type": "markdown",
   "id": "0cc697dd-2579-4d0c-9445-a9a536274807",
   "metadata": {},
   "source": [
    "## Interval data"
   ]
  },
  {
   "cell_type": "code",
   "execution_count": null,
   "id": "33648c1f-8399-4067-a86c-4d49a0dbc94f",
   "metadata": {},
   "outputs": [],
   "source": [
    "# interval_data = pd.read_csv('D:/Intraday_trading/Training/Data/XAUUSD_M1.csv', sep = '\\t')"
   ]
  },
  {
   "cell_type": "code",
   "execution_count": null,
   "id": "512dcb8f-6261-425f-8885-7b4eb443610e",
   "metadata": {},
   "outputs": [],
   "source": [
    "# interval_data.columns = ['DATE', 'TIME', 'OPEN', 'HIGH', 'LOW', 'CLOSE', 'TICK_VOL', 'VOL', 'SPREAD']\n",
    "# interval_data['DATE_TIME'] = pd.to_datetime(interval_data['DATE'] + ' ' + interval_data['TIME'])\n",
    "# interval_data['DATE'] = pd.to_datetime(interval_data['DATE'])\n",
    "\n",
    "# interval_data = interval_data[['DATE_TIME', 'DATE', 'TIME', 'OPEN', 'HIGH', 'LOW', 'CLOSE', 'TICK_VOL', 'SPREAD']]"
   ]
  },
  {
   "cell_type": "code",
   "execution_count": null,
   "id": "7f6f09b5-4435-46ae-924b-e9599e7eb46a",
   "metadata": {},
   "outputs": [],
   "source": [
    "# interval_data"
   ]
  },
  {
   "cell_type": "code",
   "execution_count": null,
   "id": "a9873f4b-a4dc-4a1c-926b-bb8027721440",
   "metadata": {},
   "outputs": [],
   "source": [
    "# interval_data.to_pickle('D:/Intraday_trading/Training/Data/XAUUSD_M1.pkl')"
   ]
  },
  {
   "cell_type": "code",
   "execution_count": null,
   "id": "de595335-c8b7-4a00-9323-80b96a840c8e",
   "metadata": {},
   "outputs": [],
   "source": [
    "%%time\n",
    "\n",
    "interval_data = pd.read_pickle('D:/Intraday_trading/Training/Data/XAUUSD_M1.pkl')\n",
    "\n",
    "interval_data = interval_data.set_index('DATE_TIME')\n",
    "interval_data.index = pd.to_datetime(interval_data.index)\n",
    "\n",
    "interval_data['DATE'] = pd.to_datetime(interval_data['DATE'])\n",
    "interval_data['OPEN'] = interval_data['OPEN']\n",
    "interval_data['HIGH'] = interval_data['HIGH']\n",
    "interval_data['LOW'] = interval_data['LOW']\n",
    "interval_data['CLOSE'] = interval_data['CLOSE']\n"
   ]
  },
  {
   "cell_type": "code",
   "execution_count": null,
   "id": "08daddf8-666a-4751-8927-7c819cbc0e4d",
   "metadata": {},
   "outputs": [],
   "source": [
    "interval_data.shape"
   ]
  },
  {
   "cell_type": "markdown",
   "id": "bb4bd551-c4c4-4d15-b638-0327ec995547",
   "metadata": {
    "jp-MarkdownHeadingCollapsed": true
   },
   "source": [
    "### Prepare_df"
   ]
  },
  {
   "cell_type": "code",
   "execution_count": null,
   "id": "c6a86c3b-fa28-48bf-b532-b86425b6644b",
   "metadata": {},
   "outputs": [],
   "source": [
    "df_1_hour = prepare_df(df = interval_data, timeframe = '1H')"
   ]
  },
  {
   "cell_type": "code",
   "execution_count": null,
   "id": "d40eca3f-3b98-497e-88db-7c974cebd990",
   "metadata": {},
   "outputs": [],
   "source": [
    "df_1_hour.shape"
   ]
  },
  {
   "cell_type": "code",
   "execution_count": null,
   "id": "51674bdf-0908-446c-b5d8-575f9de4b789",
   "metadata": {},
   "outputs": [],
   "source": [
    "plot_df(df_1_hour.iloc[15000: 15300, :], \n",
    "        path = None,# 'D:/Intraday_trading/Training/Saved_results/plot_df.html', \n",
    "        open_tab = False)"
   ]
  },
  {
   "cell_type": "markdown",
   "id": "7f7e6a34-e28d-4c10-b656-ba785bdafc1b",
   "metadata": {
    "jp-MarkdownHeadingCollapsed": true
   },
   "source": [
    "### Support/ Resistance"
   ]
  },
  {
   "cell_type": "code",
   "execution_count": null,
   "id": "36f23018-3194-4ac1-ac40-29476132dfd2",
   "metadata": {},
   "outputs": [],
   "source": [
    "df_observe = df_1_hour.iloc[4000: 4500, :].copy()"
   ]
  },
  {
   "cell_type": "code",
   "execution_count": null,
   "id": "3f0cde0e-b7cd-4b46-98c9-bd42a2a1ff39",
   "metadata": {},
   "outputs": [],
   "source": [
    "df_observe.shape"
   ]
  },
  {
   "cell_type": "code",
   "execution_count": null,
   "id": "0ac4a911-ced1-4c50-bc5c-ffa8840edbf4",
   "metadata": {},
   "outputs": [],
   "source": [
    "sr_arr = list(range(5, 30, 5))\n",
    "pr_arr = [3, 4, 5]\n",
    "pt_arr = list(range(5, 10, 1))\n",
    "max_num_arr = [3, 4, 5]\n",
    "cutoff_arr = [0, 1, 2, 3, 4, 5]"
   ]
  },
  {
   "cell_type": "code",
   "execution_count": null,
   "id": "49cf9905-ce6c-4f0b-8e3f-073de0eecbab",
   "metadata": {
    "scrolled": true
   },
   "outputs": [],
   "source": [
    "best_params = search_sr(df_observe.copy(), \n",
    "                        sr_arr = sr_arr,\n",
    "                        pr_arr = pr_arr,\n",
    "                        pt_arr = pt_arr,\n",
    "                        max_num_arr = max_num_arr,\n",
    "                        cutoff_arr = cutoff_arr\n",
    "                       )"
   ]
  },
  {
   "cell_type": "code",
   "execution_count": null,
   "id": "48112deb-c1d7-403c-bb42-52f5a2162d19",
   "metadata": {},
   "outputs": [],
   "source": [
    "best_params"
   ]
  },
  {
   "cell_type": "code",
   "execution_count": null,
   "id": "3983ee4c-183e-4235-b0e1-7b2b07939f59",
   "metadata": {},
   "outputs": [],
   "source": [
    "plot_sr(df_observe = df_observe.copy(),\n",
    "        sr_range = best_params['sr_range'],\n",
    "        patience_range = best_params['patience_range'],\n",
    "        patience_time = best_params['patience_time'],\n",
    "        max_num_sr = best_params['max_num_range'],\n",
    "        cutoff = best_params['cutoff'],\n",
    "        path = None, # 'D:/Intraday_trading/Training/Saved_results/plot_sr.html',\n",
    "        open_tab = False,\n",
    "        )"
   ]
  },
  {
   "cell_type": "markdown",
   "id": "b1ab50da-350c-44bc-a892-bdcd4a82ef5b",
   "metadata": {
    "jp-MarkdownHeadingCollapsed": true
   },
   "source": [
    "### Extrema"
   ]
  },
  {
   "cell_type": "code",
   "execution_count": null,
   "id": "8d1faa1f-727e-44f9-a89a-93ca801417b4",
   "metadata": {},
   "outputs": [],
   "source": [
    "search_extremum(df_observe = df_observe.copy(), order = 30)"
   ]
  },
  {
   "cell_type": "code",
   "execution_count": null,
   "id": "57c3e904-ae44-418c-9e03-6e5356b9e497",
   "metadata": {},
   "outputs": [],
   "source": [
    "plot_extremum(df_observe = df_observe.copy(),\n",
    "              order = 30,\n",
    "              path = None,\n",
    "              open_tab = False\n",
    ")"
   ]
  },
  {
   "cell_type": "markdown",
   "id": "e0b74567-e633-4247-8dab-538b43631430",
   "metadata": {},
   "source": [
    "### Check num data per day"
   ]
  },
  {
   "cell_type": "code",
   "execution_count": null,
   "id": "a6bd117d-7217-406d-85c4-f1f7a34be54c",
   "metadata": {},
   "outputs": [],
   "source": [
    "list_of_dates = sorted(set(interval_data.index.date))"
   ]
  },
  {
   "cell_type": "code",
   "execution_count": null,
   "id": "fdc225db-276e-4e12-9bbb-dbee9b78ad56",
   "metadata": {},
   "outputs": [],
   "source": [
    "temp = []\n",
    "\n",
    "for idx, i in enumerate(list_of_dates[-11:-5]):\n",
    "    # if interval_data[interval_data.index.date == i].shape != (243, 5):\n",
    "    #     temp.append(interval_data[interval_data.index.date == i].index.values)\n",
    "    print(i.weekday())\n",
    "    print(interval_data[interval_data.index.date == i].shape[0])\n",
    "    "
   ]
  },
  {
   "cell_type": "code",
   "execution_count": null,
   "id": "1ad24e0b-e99f-4c80-bb47-2bf29e0dd029",
   "metadata": {},
   "outputs": [],
   "source": []
  },
  {
   "cell_type": "code",
   "execution_count": null,
   "id": "ffd08d16-65e3-4e1e-9846-468ce35fc576",
   "metadata": {},
   "outputs": [],
   "source": []
  },
  {
   "cell_type": "code",
   "execution_count": null,
   "id": "708b176b-599a-4f43-bc20-d841193898f7",
   "metadata": {},
   "outputs": [],
   "source": []
  },
  {
   "cell_type": "code",
   "execution_count": null,
   "id": "1810de7b-9b0e-4227-bbd9-9e9d47a7f159",
   "metadata": {},
   "outputs": [],
   "source": []
  },
  {
   "cell_type": "code",
   "execution_count": null,
   "id": "fe81f4a5-74da-4f6c-948c-96f4957249a9",
   "metadata": {},
   "outputs": [],
   "source": []
  },
  {
   "cell_type": "code",
   "execution_count": null,
   "id": "9fdab85e-2619-4f10-9b32-03929cb9e4d9",
   "metadata": {},
   "outputs": [],
   "source": []
  },
  {
   "cell_type": "code",
   "execution_count": null,
   "id": "30a48ca1-1154-4093-9738-fab95523e5f9",
   "metadata": {},
   "outputs": [],
   "source": []
  },
  {
   "cell_type": "code",
   "execution_count": null,
   "id": "467ad7bb-23eb-44c2-bb5e-244974da46aa",
   "metadata": {},
   "outputs": [],
   "source": []
  },
  {
   "cell_type": "code",
   "execution_count": null,
   "id": "28f25821-a37e-4d32-900a-7b354e0110ed",
   "metadata": {},
   "outputs": [],
   "source": []
  },
  {
   "cell_type": "markdown",
   "id": "8b7e6541-0a6e-49cd-8f6d-8c934a1f0d74",
   "metadata": {},
   "source": [
    "## Ticks data"
   ]
  },
  {
   "cell_type": "code",
   "execution_count": null,
   "id": "64be72d5-a93a-4994-9534-d8d70a2c28c3",
   "metadata": {},
   "outputs": [],
   "source": [
    "def buy_or_sell(flag):\n",
    "    '''\n",
    "    https://www.mql5.com/en/forum/77002\n",
    "    https://www.mql5.com/en/forum/434077\n",
    "    '''\n",
    "    if flag == 2 :\n",
    "        return 'bid_changed'\n",
    "    elif flag == 4:\n",
    "        return 'ask_changed'\n",
    "    elif flag == 6:\n",
    "        return 'bid_ask_changed'"
   ]
  },
  {
   "cell_type": "code",
   "execution_count": null,
   "id": "f89c2f6f-dbf7-4554-ba01-36cbb3cf7db5",
   "metadata": {},
   "outputs": [],
   "source": [
    "ticks_data = pd.read_csv('D:/Intraday_trading/Training/Data/XAUUSD_ticks.csv', sep = '\\t')"
   ]
  },
  {
   "cell_type": "code",
   "execution_count": null,
   "id": "73a7bb11-3777-42e5-ac97-c341e0906693",
   "metadata": {},
   "outputs": [],
   "source": [
    "ticks_data.columns = ['DATE', 'TIME', 'BID', 'ASK', 'LAST', 'VOLUME', 'FLAGS']\n",
    "ticks_data['DATE_TIME'] = pd.to_datetime(ticks_data['DATE'] + ' ' + ticks_data['TIME'])\n",
    "ticks_data['DATE'] = pd.to_datetime(ticks_data['DATE'])\n",
    "ticks_data['FLAGS'] = ticks_data['FLAGS'].apply(lambda x: buy_or_sell(x))\n",
    "\n",
    "ticks_data = ticks_data[['DATE_TIME', 'DATE', 'TIME', 'BID', 'ASK', 'FLAGS']]"
   ]
  },
  {
   "cell_type": "code",
   "execution_count": null,
   "id": "e1845859-e78d-4a6f-ae56-f9ca7c260b21",
   "metadata": {},
   "outputs": [],
   "source": [
    "ticks_data.to_pickle('D:/Intraday_trading/Training/Data/XAUUSD_ticks.pkl')"
   ]
  },
  {
   "cell_type": "code",
   "execution_count": null,
   "id": "ddd102d6-886a-405c-8ea4-d9c5dbd8bbe0",
   "metadata": {},
   "outputs": [],
   "source": [
    "ticks_data.shape"
   ]
  },
  {
   "cell_type": "code",
   "execution_count": null,
   "id": "08d0a608-92d9-4984-a35e-91d07518862d",
   "metadata": {},
   "outputs": [],
   "source": [
    "# %%time\n",
    "\n",
    "# ticks_data = pd.read_pickle('D:/Intraday_trading/Training/Data/EURUSD_ticks.pkl')\n",
    "\n",
    "# ticks_data = ticks_data.set_index('DATE_TIME')\n",
    "# ticks_data.index = pd.to_datetime(ticks_data.index)\n",
    "\n",
    "# ticks_data['DATE'] = pd.to_datetime(ticks_data['DATE'])\n"
   ]
  },
  {
   "cell_type": "code",
   "execution_count": null,
   "id": "b780d8a6-8670-4523-96c6-bb3b4f895199",
   "metadata": {},
   "outputs": [],
   "source": [
    "# ticks_data.shape"
   ]
  },
  {
   "cell_type": "code",
   "execution_count": null,
   "id": "7db583fa-047c-4938-a0a6-8397f740eaf2",
   "metadata": {},
   "outputs": [],
   "source": [
    "# ticks_data.head()"
   ]
  }
 ],
 "metadata": {
  "kernelspec": {
   "display_name": "Python 3 (ipykernel)",
   "language": "python",
   "name": "python3"
  },
  "language_info": {
   "codemirror_mode": {
    "name": "ipython",
    "version": 3
   },
   "file_extension": ".py",
   "mimetype": "text/x-python",
   "name": "python",
   "nbconvert_exporter": "python",
   "pygments_lexer": "ipython3",
   "version": "3.8.10"
  }
 },
 "nbformat": 4,
 "nbformat_minor": 5
}
