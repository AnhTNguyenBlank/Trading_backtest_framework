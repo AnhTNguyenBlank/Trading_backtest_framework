{
 "cells": [
  {
   "cell_type": "markdown",
   "id": "2VlvZHQD40KG",
   "metadata": {
    "id": "2VlvZHQD40KG"
   },
   "source": [
    "# Import packages"
   ]
  },
  {
   "cell_type": "code",
   "execution_count": null,
   "id": "41da6ad3",
   "metadata": {
    "executionInfo": {
     "elapsed": 1455,
     "status": "ok",
     "timestamp": 1709265618534,
     "user": {
      "displayName": "Anh Nguyễn Tuấn",
      "userId": "04855194201394650471"
     },
     "user_tz": -420
    },
    "id": "41da6ad3"
   },
   "outputs": [],
   "source": [
    "import pandas as pd\n",
    "import numpy as np\n",
    "import matplotlib.pyplot as plt\n",
    "from datetime import datetime, timedelta\n",
    "import pickle\n",
    "import os\n",
    "import math\n",
    "\n",
    "import ta\n",
    "\n",
    "# using the style for the plot\n",
    "plt.style.use('classic')\n",
    "pd.set_option('display.max_columns', 500)\n",
    "pd.set_option('display.max_rows', 300)\n",
    "\n",
    "# %config inlinebackend.figure_format = 'svg'"
   ]
  },
  {
   "cell_type": "code",
   "execution_count": null,
   "id": "SGL_b4tNKPd0",
   "metadata": {
    "executionInfo": {
     "elapsed": 537,
     "status": "ok",
     "timestamp": 1709265619068,
     "user": {
      "displayName": "Anh Nguyễn Tuấn",
      "userId": "04855194201394650471"
     },
     "user_tz": -420
    },
    "id": "SGL_b4tNKPd0"
   },
   "outputs": [],
   "source": [
    "import plotly.graph_objects as go\n",
    "from plotly.subplots import make_subplots\n",
    "import plotly.express as px"
   ]
  },
  {
   "cell_type": "code",
   "execution_count": null,
   "id": "KKsXTkES5MNF",
   "metadata": {
    "executionInfo": {
     "elapsed": 5421,
     "status": "ok",
     "timestamp": 1709265624486,
     "user": {
      "displayName": "Anh Nguyễn Tuấn",
      "userId": "04855194201394650471"
     },
     "user_tz": -420
    },
    "id": "KKsXTkES5MNF"
   },
   "outputs": [],
   "source": [
    "import tensorflow as tf\n",
    "from tensorflow import keras"
   ]
  },
  {
   "cell_type": "code",
   "execution_count": null,
   "id": "dda12667-c9bc-432c-acdb-12b95d441491",
   "metadata": {},
   "outputs": [],
   "source": [
    "import sys\n",
    "\n",
    "sys.path.insert(0, 'D:/Intraday_trading')"
   ]
  },
  {
   "cell_type": "code",
   "execution_count": null,
   "id": "e3923fec-457c-44c9-8b98-fae6f36eb3eb",
   "metadata": {},
   "outputs": [],
   "source": [
    "from scr.support import *"
   ]
  },
  {
   "cell_type": "markdown",
   "id": "ySpWxX2U5Vqy",
   "metadata": {
    "id": "ySpWxX2U5Vqy"
   },
   "source": [
    "# Data"
   ]
  },
  {
   "cell_type": "code",
   "execution_count": null,
   "id": "ee207528",
   "metadata": {
    "executionInfo": {
     "elapsed": 518,
     "status": "ok",
     "timestamp": 1709265626011,
     "user": {
      "displayName": "Anh Nguyễn Tuấn",
      "userId": "04855194201394650471"
     },
     "user_tz": -420
    },
    "id": "ee207528"
   },
   "outputs": [],
   "source": [
    "%%time\n",
    "\n",
    "interval_data = pd.read_pickle('D:/Intraday_trading/Training/Data/XAUUSD_M1.pkl')\n",
    "\n",
    "interval_data = interval_data.set_index('DATE_TIME')\n",
    "interval_data.index = pd.to_datetime(interval_data.index)\n",
    "\n",
    "interval_data['DATE'] = pd.to_datetime(interval_data['DATE'])\n",
    "interval_data['OPEN'] = interval_data['OPEN']\n",
    "interval_data['HIGH'] = interval_data['HIGH']\n",
    "interval_data['LOW'] = interval_data['LOW']\n",
    "interval_data['CLOSE'] = interval_data['CLOSE']\n"
   ]
  },
  {
   "cell_type": "code",
   "execution_count": null,
   "id": "b1e59aa0-3106-4126-89cd-823f9a92650f",
   "metadata": {},
   "outputs": [],
   "source": [
    "interval_data.shape"
   ]
  },
  {
   "cell_type": "code",
   "execution_count": null,
   "id": "F9-mnqo9AfUy",
   "metadata": {
    "executionInfo": {
     "elapsed": 16,
     "status": "ok",
     "timestamp": 1709265652548,
     "user": {
      "displayName": "Anh Nguyễn Tuấn",
      "userId": "04855194201394650471"
     },
     "user_tz": -420
    },
    "id": "F9-mnqo9AfUy"
   },
   "outputs": [],
   "source": [
    "list_of_dates = sorted(set(interval_data.index.date))"
   ]
  },
  {
   "cell_type": "code",
   "execution_count": null,
   "id": "7424c07a-cd02-4667-a2d5-0a938bd96141",
   "metadata": {
    "scrolled": true
   },
   "outputs": [],
   "source": [
    "list_of_dates[-100:]"
   ]
  },
  {
   "cell_type": "code",
   "execution_count": null,
   "id": "f50d732c-87da-4630-853c-876c5f913069",
   "metadata": {},
   "outputs": [],
   "source": [
    "list_of_dates[0].weekday()"
   ]
  },
  {
   "cell_type": "code",
   "execution_count": null,
   "id": "BnOV9srxB_Z0",
   "metadata": {
    "executionInfo": {
     "elapsed": 22176,
     "status": "ok",
     "timestamp": 1709265674709,
     "user": {
      "displayName": "Anh Nguyễn Tuấn",
      "userId": "04855194201394650471"
     },
     "user_tz": -420
    },
    "id": "BnOV9srxB_Z0",
    "scrolled": true
   },
   "outputs": [],
   "source": [
    "temp = []\n",
    "\n",
    "for idx, i in enumerate(list_of_dates[-11:-5]):\n",
    "    # if interval_data[interval_data.index.date == i].shape != (243, 5):\n",
    "    #     temp.append(interval_data[interval_data.index.date == i].index.values)\n",
    "    print(i.weekday())\n",
    "    print(interval_data[interval_data.index.date == i].shape[0])\n",
    "    "
   ]
  },
  {
   "cell_type": "code",
   "execution_count": null,
   "id": "H7UHreclDSPc",
   "metadata": {
    "executionInfo": {
     "elapsed": 19,
     "status": "ok",
     "timestamp": 1709265674710,
     "user": {
      "displayName": "Anh Nguyễn Tuấn",
      "userId": "04855194201394650471"
     },
     "user_tz": -420
    },
    "id": "H7UHreclDSPc"
   },
   "outputs": [],
   "source": [
    "index_to_drop = temp[0]\n",
    "\n",
    "for id, i in enumerate(temp):\n",
    "    index_to_drop = np.concatenate((index_to_drop, temp[id]), axis = None)"
   ]
  },
  {
   "cell_type": "code",
   "execution_count": null,
   "id": "ObB7SptzHeSl",
   "metadata": {
    "colab": {
     "base_uri": "https://localhost:8080/"
    },
    "executionInfo": {
     "elapsed": 18,
     "status": "ok",
     "timestamp": 1709265674710,
     "user": {
      "displayName": "Anh Nguyễn Tuấn",
      "userId": "04855194201394650471"
     },
     "user_tz": -420
    },
    "id": "ObB7SptzHeSl",
    "outputId": "ae31a0b2-7628-436d-c07d-0db070e6e543"
   },
   "outputs": [],
   "source": [
    "# index_to_drop"
   ]
  },
  {
   "cell_type": "code",
   "execution_count": null,
   "id": "n37uNLwXDSIE",
   "metadata": {
    "executionInfo": {
     "elapsed": 5,
     "status": "ok",
     "timestamp": 1709265674711,
     "user": {
      "displayName": "Anh Nguyễn Tuấn",
      "userId": "04855194201394650471"
     },
     "user_tz": -420
    },
    "id": "n37uNLwXDSIE"
   },
   "outputs": [],
   "source": [
    "# interval_data = interval_data[~interval_data.index.isin(index_to_drop)]"
   ]
  },
  {
   "cell_type": "markdown",
   "id": "_SkSXfnMkMhU",
   "metadata": {
    "id": "_SkSXfnMkMhU"
   },
   "source": [
    "# Daily trading volatility\n",
    "\n",
    "Measure by sum square of minutes returns in a day. ADJUSTED by the number of time they revert."
   ]
  },
  {
   "cell_type": "code",
   "execution_count": null,
   "id": "177a2af3-e459-4a13-a3f4-ced2607b75cc",
   "metadata": {},
   "outputs": [],
   "source": [
    "df_1_min = prepare_df(interval_data,\n",
    "                      timeframe = '1min')\n"
   ]
  },
  {
   "cell_type": "code",
   "execution_count": null,
   "id": "cd57667f-508c-48fc-95b3-c4a25bb08485",
   "metadata": {},
   "outputs": [],
   "source": []
  },
  {
   "cell_type": "code",
   "execution_count": null,
   "id": "6403dd72-3b06-41c6-a0a9-0b713e436b47",
   "metadata": {},
   "outputs": [],
   "source": []
  },
  {
   "cell_type": "code",
   "execution_count": null,
   "id": "46b4c3e8-b541-42e6-a31f-b9297a968521",
   "metadata": {},
   "outputs": [],
   "source": []
  },
  {
   "cell_type": "code",
   "execution_count": null,
   "id": "b35e0e5d-b25c-47dc-9e50-6a1b82eb54e6",
   "metadata": {},
   "outputs": [],
   "source": []
  },
  {
   "cell_type": "code",
   "execution_count": null,
   "id": "66e468ff-9b3f-4629-bdff-15c75e595e0e",
   "metadata": {},
   "outputs": [],
   "source": []
  },
  {
   "cell_type": "code",
   "execution_count": null,
   "id": "1cc31d78-6762-40a6-a148-e0f78fb87241",
   "metadata": {},
   "outputs": [],
   "source": []
  },
  {
   "cell_type": "code",
   "execution_count": null,
   "id": "5e616d55-ec27-417d-a366-5d1f651549e0",
   "metadata": {},
   "outputs": [],
   "source": []
  },
  {
   "cell_type": "code",
   "execution_count": null,
   "id": "6B9qCVOAQvrz",
   "metadata": {
    "executionInfo": {
     "elapsed": 13837,
     "status": "ok",
     "timestamp": 1709265688544,
     "user": {
      "displayName": "Anh Nguyễn Tuấn",
      "userId": "04855194201394650471"
     },
     "user_tz": -420
    },
    "id": "6B9qCVOAQvrz"
   },
   "outputs": [],
   "source": [
    "\n",
    "\n",
    "df_1_min = df_1_min.dropna()\n",
    "df_1_min = df_1_min[df_1_min.index >= datetime.strptime(str(df_1_min.index[0] + timedelta(days = 1))[:10], '%Y-%m-%d')\n",
    "]\n",
    "\n",
    "\n",
    "df_1_day = prepare_df(df,\n",
    "                      timeframe = '1D')\n",
    "\n",
    "df_1_day['ROLLING_VOLATILITY'] = df_1_day['LOG_CHANGE_CLOSE'].rolling(window = 20).std()a"
   ]
  },
  {
   "cell_type": "code",
   "execution_count": null,
   "id": "bcR_JYreQAUl",
   "metadata": {
    "executionInfo": {
     "elapsed": 1431,
     "status": "ok",
     "timestamp": 1709265689959,
     "user": {
      "displayName": "Anh Nguyễn Tuấn",
      "userId": "04855194201394650471"
     },
     "user_tz": -420
    },
    "id": "bcR_JYreQAUl"
   },
   "outputs": [],
   "source": [
    "from arch import arch_model\n",
    "\n",
    "res_model = arch_model(df_1_day['LOG_CHANGE_CLOSE'].copy().dropna(),\n",
    "                       p = 1,\n",
    "                       q = 1,\n",
    "                       mean = 'Zero',\n",
    "                       vol = 'GARCH',\n",
    "                       dist = 'ged')\n",
    "\n",
    "GARCH = res_model.fit(update_freq = 0,\n",
    "                      disp = 'off')"
   ]
  },
  {
   "cell_type": "code",
   "execution_count": null,
   "id": "EHqwzizSQWvF",
   "metadata": {
    "executionInfo": {
     "elapsed": 4,
     "status": "ok",
     "timestamp": 1709265689959,
     "user": {
      "displayName": "Anh Nguyễn Tuấn",
      "userId": "04855194201394650471"
     },
     "user_tz": -420
    },
    "id": "EHqwzizSQWvF"
   },
   "outputs": [],
   "source": [
    "GARCH_vol = GARCH.conditional_volatility"
   ]
  },
  {
   "cell_type": "code",
   "execution_count": null,
   "id": "uvTiwXUM7HYm",
   "metadata": {
    "executionInfo": {
     "elapsed": 5,
     "status": "ok",
     "timestamp": 1709265689960,
     "user": {
      "displayName": "Anh Nguyễn Tuấn",
      "userId": "04855194201394650471"
     },
     "user_tz": -420
    },
    "id": "uvTiwXUM7HYm"
   },
   "outputs": [],
   "source": [
    "list_of_dates = sorted(set(df_1_min.index.date))\n",
    "\n",
    "# list_of_dates"
   ]
  },
  {
   "cell_type": "code",
   "execution_count": null,
   "id": "vVo1cJDYNqGh",
   "metadata": {
    "executionInfo": {
     "elapsed": 22441,
     "status": "ok",
     "timestamp": 1709265712397,
     "user": {
      "displayName": "Anh Nguyễn Tuấn",
      "userId": "04855194201394650471"
     },
     "user_tz": -420
    },
    "id": "vVo1cJDYNqGh"
   },
   "outputs": [],
   "source": [
    "norm_arr = []\n",
    "ad_arr = []\n",
    "trade_range_arr = []\n",
    "num_revert_arr = []\n",
    "std_arr = []\n",
    "epsilon = 1e-3\n",
    "\n",
    "for idd, date in enumerate(list_of_dates):\n",
    "    test = df_1_min.loc[df_1_min.index.date == list_of_dates[idd]]\n",
    "\n",
    "    sum_square_ret = np.sum(test['LOG_CHANGE_CLOSE']**2)\n",
    "    std_ret = test['LOG_CHANGE_CLOSE'].std()\n",
    "\n",
    "    max_range = np.absolute(test['HIGH'].max() - test['LOW'].min())\n",
    "\n",
    "    order = 30\n",
    "\n",
    "    local_max_indices = argrelmax(data = test.iloc[order: -order, :]['HIGH'].values, axis = 0, order = order)[0]\n",
    "    local_min_indices = argrelmin(data = test.iloc[order: -order, :]['LOW'].values, axis = 0, order = order)[0]\n",
    "\n",
    "    num_revert = len(local_max_indices) + len(local_min_indices)\n",
    "\n",
    "\n",
    "    trade_range_arr.append(max_range)\n",
    "    num_revert_arr.append(num_revert)\n",
    "    std_arr.append(std_ret*np.sqrt(250))\n",
    "    norm_arr.append(np.sqrt(sum_square_ret))\n",
    "    ad_arr.append(np.sqrt(sum_square_ret*(5*num_revert + epsilon)/(max_range + epsilon)))\n",
    "\n",
    "\n"
   ]
  },
  {
   "cell_type": "code",
   "execution_count": null,
   "id": "Z9p8uR4uU6Ft",
   "metadata": {
    "colab": {
     "base_uri": "https://localhost:8080/"
    },
    "executionInfo": {
     "elapsed": 20,
     "status": "ok",
     "timestamp": 1709265712397,
     "user": {
      "displayName": "Anh Nguyễn Tuấn",
      "userId": "04855194201394650471"
     },
     "user_tz": -420
    },
    "id": "Z9p8uR4uU6Ft",
    "outputId": "ec72e4a5-9143-430f-9339-655a887848df"
   },
   "outputs": [],
   "source": [
    "len(list_of_dates), len(norm_arr), len(ad_arr), len(df_1_day['ROLLING_VOLATILITY'])"
   ]
  },
  {
   "cell_type": "code",
   "execution_count": null,
   "id": "nYDYnA6MZFXg",
   "metadata": {
    "executionInfo": {
     "elapsed": 18,
     "status": "ok",
     "timestamp": 1709265712397,
     "user": {
      "displayName": "Anh Nguyễn Tuấn",
      "userId": "04855194201394650471"
     },
     "user_tz": -420
    },
    "id": "nYDYnA6MZFXg"
   },
   "outputs": [],
   "source": [
    "daily_volatility = pd.DataFrame(index = list_of_dates)\n",
    "daily_volatility['SUM_SQUARE_VOL'] = norm_arr\n",
    "daily_volatility['STD_VOL'] = std_arr\n",
    "daily_volatility['ADJ_SUM_SQUARE_VOL'] = ad_arr\n",
    "daily_volatility['TRADING_RANGE'] = trade_range_arr\n",
    "daily_volatility['NUM_REVERT'] = num_revert_arr"
   ]
  },
  {
   "cell_type": "code",
   "execution_count": null,
   "id": "thlZEhf_csqW",
   "metadata": {
    "executionInfo": {
     "elapsed": 18,
     "status": "ok",
     "timestamp": 1709265712398,
     "user": {
      "displayName": "Anh Nguyễn Tuấn",
      "userId": "04855194201394650471"
     },
     "user_tz": -420
    },
    "id": "thlZEhf_csqW"
   },
   "outputs": [],
   "source": [
    "daily_volatility = pd.merge(daily_volatility, df_1_day['ROLLING_VOLATILITY'], how = 'left', left_index = True, right_index = True)\n",
    "daily_volatility = pd.merge(daily_volatility, GARCH_vol, how = 'left', left_index = True, right_index = True)"
   ]
  },
  {
   "cell_type": "code",
   "execution_count": null,
   "id": "pSoXBxUFsWAd",
   "metadata": {
    "executionInfo": {
     "elapsed": 18,
     "status": "ok",
     "timestamp": 1709265712398,
     "user": {
      "displayName": "Anh Nguyễn Tuấn",
      "userId": "04855194201394650471"
     },
     "user_tz": -420
    },
    "id": "pSoXBxUFsWAd"
   },
   "outputs": [],
   "source": [
    "daily_volatility['FLAG_INCREASE_RISK'] = np.where(daily_volatility['SUM_SQUARE_VOL'] < daily_volatility['ADJ_SUM_SQUARE_VOL'], 1, 0)"
   ]
  },
  {
   "cell_type": "code",
   "execution_count": null,
   "id": "eMXW0Rd6TUwc",
   "metadata": {
    "colab": {
     "base_uri": "https://localhost:8080/"
    },
    "executionInfo": {
     "elapsed": 17,
     "status": "ok",
     "timestamp": 1709265712398,
     "user": {
      "displayName": "Anh Nguyễn Tuấn",
      "userId": "04855194201394650471"
     },
     "user_tz": -420
    },
    "id": "eMXW0Rd6TUwc",
    "outputId": "11b48cfe-e534-4a6c-be80-1e7ceee71311"
   },
   "outputs": [],
   "source": [
    "daily_volatility['FLAG_INCREASE_RISK'].sum(), len(daily_volatility)"
   ]
  },
  {
   "cell_type": "code",
   "execution_count": null,
   "id": "zFzu0K6YD4LA",
   "metadata": {
    "executionInfo": {
     "elapsed": 17,
     "status": "ok",
     "timestamp": 1709265712398,
     "user": {
      "displayName": "Anh Nguyễn Tuấn",
      "userId": "04855194201394650471"
     },
     "user_tz": -420
    },
    "id": "zFzu0K6YD4LA"
   },
   "outputs": [],
   "source": [
    "daily_volatility.columns = ['SUM_SQUARE_VOL', 'STD_VOL', 'ADJ_SUM_SQUARE_VOL', 'TRADING_RANGE', 'NUM_REVERT','ROLLING_DAILY_VOLATILITY', 'GARCH_DAILY_VOL', 'FLAG_INCREASE_RISK']"
   ]
  },
  {
   "cell_type": "code",
   "execution_count": null,
   "id": "m-ed1woIiyjk",
   "metadata": {
    "colab": {
     "base_uri": "https://localhost:8080/",
     "height": 1000
    },
    "executionInfo": {
     "elapsed": 3389,
     "status": "ok",
     "timestamp": 1709265715771,
     "user": {
      "displayName": "Anh Nguyễn Tuấn",
      "userId": "04855194201394650471"
     },
     "user_tz": -420
    },
    "id": "m-ed1woIiyjk",
    "outputId": "9fcc8b74-44f4-4c1b-a43d-fcd4f1705c4f"
   },
   "outputs": [],
   "source": [
    "fig, ax = plt.subplots(nrows = 6,\n",
    "                       ncols = 1,\n",
    "                       figsize = (30, 30))\n",
    "\n",
    "ax[0].hist(daily_volatility.loc[daily_volatility['FLAG_INCREASE_RISK'] == 1, 'SUM_SQUARE_VOL'], bins = 50, alpha = 1, color = 'blue', label = 'Incre', density = True)\n",
    "ax[0].hist(daily_volatility.loc[daily_volatility['FLAG_INCREASE_RISK'] == 0, 'SUM_SQUARE_VOL'], bins = 50, alpha = 0.5, color = 'red', label = 'Decre', density = True)\n",
    "ax[0].set_title('SUM_SQUARE_VOL')\n",
    "ax[0].legend()\n",
    "\n",
    "ax[1].hist(daily_volatility.loc[daily_volatility['FLAG_INCREASE_RISK'] == 1, 'ADJ_SUM_SQUARE_VOL'], bins = 50, alpha = 1, color = 'blue', label = 'Incre', density = True)\n",
    "ax[1].hist(daily_volatility.loc[daily_volatility['FLAG_INCREASE_RISK'] == 0, 'ADJ_SUM_SQUARE_VOL'], bins = 50, alpha = 0.5, color = 'red', label = 'Decre', density = True)\n",
    "ax[1].set_title('ADJ_SUM_SQUARE_VOL')\n",
    "ax[1].legend()\n",
    "\n",
    "ax[2].hist(daily_volatility.loc[daily_volatility['FLAG_INCREASE_RISK'] == 1, 'TRADING_RANGE'], bins = 50, alpha = 1, color = 'blue', label = 'Incre', density = True)\n",
    "ax[2].hist(daily_volatility.loc[daily_volatility['FLAG_INCREASE_RISK'] == 0, 'TRADING_RANGE'], bins = 50, alpha = 0.5, color = 'red', label = 'Decre', density = True)\n",
    "ax[2].set_title('TRADING_RANGE')\n",
    "ax[2].legend()\n",
    "\n",
    "ax[3].hist(daily_volatility.loc[daily_volatility['FLAG_INCREASE_RISK'] == 1, 'NUM_REVERT'], bins = 50, alpha = 1, color = 'blue', label = 'Incre', density = True)\n",
    "ax[3].hist(daily_volatility.loc[daily_volatility['FLAG_INCREASE_RISK'] == 0, 'NUM_REVERT'], bins = 50, alpha = 0.5, color = 'red', label = 'Decre', density = True)\n",
    "ax[3].set_title('NUM_REVERT')\n",
    "ax[3].legend()\n",
    "\n",
    "ax[4].plot(daily_volatility['SUM_SQUARE_VOL'], color = 'blue', label = 'INTRADAY_VOL', linewidth = 1.5)\n",
    "# ax[4].plot(daily_volatility['STD_VOL'], color = 'orange', label = 'STD_VOL', linewidth = 1.5)\n",
    "ax[4].plot(daily_volatility['ADJ_SUM_SQUARE_VOL'], color = 'red', label = 'ADJ_INTRADAY_VOL', linewidth = 1.5)\n",
    "ax[4].plot(daily_volatility['GARCH_DAILY_VOL'], color = 'black', label = 'GARCH_VOL', linewidth = 1.5)\n",
    "ax[4].plot(daily_volatility['ROLLING_DAILY_VOLATILITY'], color = 'green', label = 'ROLLING_VOL', linewidth = 1.5)\n",
    "ax[4].set_title('VOLATILITY')\n",
    "ax[4].legend()\n",
    "\n",
    "daily_volatility[['SUM_SQUARE_VOL', 'STD_VOL', 'ADJ_SUM_SQUARE_VOL', 'GARCH_DAILY_VOL', 'ROLLING_DAILY_VOLATILITY']].boxplot(ax = ax[5])\n",
    "\n",
    "fig.show()"
   ]
  },
  {
   "cell_type": "markdown",
   "id": "sMxk0NrqKjR8",
   "metadata": {
    "id": "sMxk0NrqKjR8"
   },
   "source": [
    "# Modeling"
   ]
  },
  {
   "cell_type": "code",
   "execution_count": null,
   "id": "i60DOvyDv3NS",
   "metadata": {
    "colab": {
     "base_uri": "https://localhost:8080/",
     "height": 756
    },
    "executionInfo": {
     "elapsed": 542,
     "status": "ok",
     "timestamp": 1709265785600,
     "user": {
      "displayName": "Anh Nguyễn Tuấn",
      "userId": "04855194201394650471"
     },
     "user_tz": -420
    },
    "id": "i60DOvyDv3NS",
    "outputId": "a0d934fe-6c14-4dcc-d14d-42ac34b3bcf0"
   },
   "outputs": [],
   "source": [
    "display(df_1_min.dropna().head()), display(df_1_day.dropna().head())"
   ]
  },
  {
   "cell_type": "code",
   "execution_count": null,
   "id": "mOaV0i2Uv3KU",
   "metadata": {
    "colab": {
     "base_uri": "https://localhost:8080/"
    },
    "executionInfo": {
     "elapsed": 339,
     "status": "ok",
     "timestamp": 1709266385270,
     "user": {
      "displayName": "Anh Nguyễn Tuấn",
      "userId": "04855194201394650471"
     },
     "user_tz": -420
    },
    "id": "mOaV0i2Uv3KU",
    "outputId": "4a947e6b-c0cb-41ea-8458-d575718cd30e"
   },
   "outputs": [],
   "source": [
    "df_1_min.dropna().shape, df_1_day.dropna().shape"
   ]
  }
 ],
 "metadata": {
  "colab": {
   "collapsed_sections": [
    "2VlvZHQD40KG",
    "XI5Po00_nV-L",
    "Y01JajzbnYvX",
    "QH4ua8uQngHn",
    "ySpWxX2U5Vqy",
    "_SkSXfnMkMhU"
   ],
   "gpuType": "T4",
   "provenance": [],
   "toc_visible": true
  },
  "kernelspec": {
   "display_name": "Python 3 (ipykernel)",
   "language": "python",
   "name": "python3"
  },
  "language_info": {
   "codemirror_mode": {
    "name": "ipython",
    "version": 3
   },
   "file_extension": ".py",
   "mimetype": "text/x-python",
   "name": "python",
   "nbconvert_exporter": "python",
   "pygments_lexer": "ipython3",
   "version": "3.8.10"
  }
 },
 "nbformat": 4,
 "nbformat_minor": 5
}
