{
 "cells": [
  {
   "cell_type": "markdown",
   "id": "d6a874fc-cde5-421c-9ce5-fa29657960b5",
   "metadata": {},
   "source": [
    "# Import packages"
   ]
  },
  {
   "cell_type": "code",
   "execution_count": null,
   "id": "390f32dc-525e-4272-9e1c-5259d53cdfbf",
   "metadata": {},
   "outputs": [],
   "source": [
    "import pandas as pd\n",
    "import numpy as np\n",
    "\n",
    "pd.set_option('display.max_columns', 999)\n",
    "pd.set_option('display.max_rows', 500)\n",
    "from scipy.stats import levy_stable\n",
    "\n",
    "from datetime import datetime\n",
    "from scipy.stats import kstest\n",
    "from scipy.stats import jarque_bera\n",
    "# from arch.unitroot import ADF\n",
    "from scipy.stats import kurtosis\n",
    "from scipy.stats import skew\n",
    "# from arch import arch_model\n",
    "\n",
    "import pickle\n",
    "\n",
    "import ta\n",
    "\n",
    "import matplotlib.pyplot as plt\n",
    "\n",
    "import plotly.graph_objects as go\n",
    "from plotly.subplots import make_subplots\n",
    "import webbrowser\n",
    "from datetime import datetime, timedelta\n",
    "\n",
    "plt.style.use('classic')\n",
    "# pd.set_option('display.max_columns', 500)\n",
    "# pd.set_option('display.max_rows', 300)\n",
    "\n",
    "# %config inlinebackend.figure_format = 'svg'"
   ]
  },
  {
   "cell_type": "code",
   "execution_count": null,
   "id": "062b7a08-bd63-4bb8-a417-fd54fa6f32b4",
   "metadata": {},
   "outputs": [],
   "source": [
    "import sys\n",
    "\n",
    "sys.path.insert(0, 'D:/Intraday_trading')"
   ]
  },
  {
   "cell_type": "code",
   "execution_count": null,
   "id": "dd486a22-ddda-4d28-a304-4bf14e7ee902",
   "metadata": {},
   "outputs": [],
   "source": [
    "from src.support import *\n",
    "from src.backtest import *\n",
    "from src.alphas import *"
   ]
  },
  {
   "cell_type": "markdown",
   "id": "6ba65158-e1f2-4f9f-a867-beb1960e6f8a",
   "metadata": {},
   "source": [
    "# Import and pre-processing data"
   ]
  },
  {
   "cell_type": "markdown",
   "id": "0cc697dd-2579-4d0c-9445-a9a536274807",
   "metadata": {},
   "source": [
    "## Interval data"
   ]
  },
  {
   "cell_type": "code",
   "execution_count": null,
   "id": "de595335-c8b7-4a00-9323-80b96a840c8e",
   "metadata": {},
   "outputs": [],
   "source": [
    "%%time\n",
    "\n",
    "interval_data = pd.read_pickle('D:/Intraday_trading/Training/Data/XAUUSD_M15_1.pkl')\n",
    "\n",
    "interval_data = interval_data.set_index('DATE_TIME')\n",
    "interval_data.index = pd.to_datetime(interval_data.index)\n",
    "\n",
    "interval_data['DATE'] = pd.to_datetime(interval_data['DATE'])\n",
    "interval_data['OPEN'] = interval_data['OPEN']\n",
    "interval_data['HIGH'] = interval_data['HIGH']\n",
    "interval_data['LOW'] = interval_data['LOW']\n",
    "interval_data['CLOSE'] = interval_data['CLOSE']\n"
   ]
  },
  {
   "cell_type": "markdown",
   "id": "bb4bd551-c4c4-4d15-b638-0327ec995547",
   "metadata": {
    "jp-MarkdownHeadingCollapsed": true
   },
   "source": [
    "### Prepare_df"
   ]
  },
  {
   "cell_type": "code",
   "execution_count": null,
   "id": "c6a86c3b-fa28-48bf-b532-b86425b6644b",
   "metadata": {},
   "outputs": [],
   "source": [
    "df_4_hour = prepare_df(df = interval_data, timeframe = '4H', add_indicators = True)\n",
    "df_1_day = prepare_df(df = interval_data, timeframe = '1D', add_indicators = True)\n",
    "df_15_min = prepare_df(df = interval_data, timeframe = '15min', add_indicators = True)\n",
    "\n",
    "df_1_day['WHOLE_RANGE'] = df_1_day['HIGH'] - df_1_day['LOW']\n",
    "df_4_hour['WHOLE_RANGE'] = df_4_hour['HIGH'] - df_4_hour['LOW']\n",
    "df_15_min['WHOLE_RANGE'] = df_15_min['HIGH'] - df_15_min['LOW']\n",
    "\n",
    "df_1_day['GRP_WHOLE_RANGE'] = pd.qcut(df_1_day['WHOLE_RANGE'], 10)\n",
    "df_4_hour['GRP_WHOLE_RANGE'] = pd.qcut(df_4_hour['WHOLE_RANGE'], 10)\n",
    "df_15_min['GRP_WHOLE_RANGE'] = pd.qcut(df_15_min['WHOLE_RANGE'], 10)\n",
    "\n",
    "df_1_day['GRP_BODY'] = pd.qcut(df_1_day['BODY'], 10)\n",
    "df_4_hour['GRP_BODY'] = pd.qcut(df_4_hour['BODY'], 10)\n",
    "df_15_min['GRP_BODY'] = pd.qcut(df_15_min['BODY'], 10)\n",
    "\n",
    "df_1_day['YEAR'] = df_1_day.index.strftime('%Y')\n",
    "df_1_day['WEEK'] = df_1_day.index.strftime('%Y%W')\n",
    "df_1_day['MONTH'] = df_1_day.index.strftime('%Y%m')\n",
    "\n",
    "df_4_hour['YEAR'] = df_4_hour.index.strftime('%Y')\n",
    "df_4_hour['WEEK'] = df_4_hour.index.strftime('%Y%W')\n",
    "df_4_hour['MONTH'] = df_4_hour.index.strftime('%Y%m')\n",
    "\n",
    "df_15_min['YEAR'] = df_15_min.index.strftime('%Y')\n",
    "df_15_min['WEEK'] = df_15_min.index.strftime('%Y%W')\n",
    "df_15_min['MONTH'] = df_15_min.index.strftime('%Y%m')\n",
    "\n"
   ]
  },
  {
   "cell_type": "code",
   "execution_count": null,
   "id": "d40eca3f-3b98-497e-88db-7c974cebd990",
   "metadata": {},
   "outputs": [],
   "source": [
    "df_15_min.shape, df_4_hour.shape, df_1_day.shape, "
   ]
  },
  {
   "cell_type": "code",
   "execution_count": null,
   "id": "d6372e2c",
   "metadata": {},
   "outputs": [],
   "source": [
    "df_1_day.columns"
   ]
  },
  {
   "cell_type": "code",
   "execution_count": null,
   "id": "28d84add",
   "metadata": {},
   "outputs": [],
   "source": [
    "# df_15_min.index[0], df_15_min.index[-1]"
   ]
  },
  {
   "cell_type": "code",
   "execution_count": null,
   "id": "51674bdf-0908-446c-b5d8-575f9de4b789",
   "metadata": {},
   "outputs": [],
   "source": [
    "# plot_df(df_1_day, \n",
    "#         path = None,# 'D:/Intraday_trading/Training/Saved_results/plot_df.html', \n",
    "#         open_tab = False)"
   ]
  },
  {
   "cell_type": "markdown",
   "id": "6cbddeef",
   "metadata": {},
   "source": [
    "# Bollinger band, RSI, Moving average"
   ]
  },
  {
   "cell_type": "markdown",
   "id": "9f11551a",
   "metadata": {},
   "source": [
    "## RSI\n",
    "\n",
    "----------------------------------------\n",
    "* RSI <= 30 --> over sought --> drop?, RSI >= 70 --> over bought --> rise?; how many candle until the RSI back in the range? is there any more critical levels (50)?\n",
    "* Normal parameter: 14\n",
    "* RSI divergence --> Reverse"
   ]
  },
  {
   "cell_type": "markdown",
   "id": "30680244",
   "metadata": {},
   "source": [
    "### Daily timeframe"
   ]
  },
  {
   "cell_type": "markdown",
   "id": "dcab7131",
   "metadata": {},
   "source": [
    "#### Thresholds\n",
    "\n",
    "* For 2024, 2025, only 20% of days where RSI <= 50; Daily threshold 50, 70"
   ]
  },
  {
   "cell_type": "markdown",
   "id": "3511d941",
   "metadata": {},
   "source": [
    "#### RSI = 30\n",
    "\n",
    "* Stay under 30 for next 4 days (~70% chance)\n",
    "* When recover to above 30, most likely next 3 days will be daily increase candles, for next 7 days, 50% chance that 4-5 days will be bullish candle\n",
    "* Values of body/ whole range of bullish candles will be bigger --> bigger wick\n"
   ]
  },
  {
   "cell_type": "code",
   "execution_count": null,
   "id": "a7804fcf",
   "metadata": {},
   "outputs": [],
   "source": [
    "# rsi_summary(df_observe = df_1_day, \n",
    "#             threshold = 30, \n",
    "#             timeframe = '1D', \n",
    "#             direction_after_hit_threshold = 'UP',\n",
    "#             show_distribution = True,\n",
    "#             RSI_params = 14\n",
    "#             )"
   ]
  },
  {
   "cell_type": "code",
   "execution_count": null,
   "id": "0cf9b414",
   "metadata": {},
   "outputs": [],
   "source": [
    "# rsi_summary(df_observe = df_1_day, \n",
    "#             threshold = 30, \n",
    "#             timeframe = '1D', \n",
    "#             direction_after_hit_threshold = 'UP',\n",
    "#             show_distribution = True,\n",
    "#             RSI_params = 5\n",
    "#             )"
   ]
  },
  {
   "cell_type": "markdown",
   "id": "f8c996a8",
   "metadata": {},
   "source": [
    "#### RSI = 50"
   ]
  },
  {
   "cell_type": "code",
   "execution_count": null,
   "id": "d65b4daf",
   "metadata": {},
   "outputs": [],
   "source": [
    "# rsi_summary(df_observe = df_1_day, \n",
    "#             threshold = 50, \n",
    "#             timeframe = '1D', \n",
    "#             direction_after_hit_threshold = 'UP',\n",
    "#             show_distribution = False,\n",
    "#             RSI_params = 14\n",
    "#             )"
   ]
  },
  {
   "cell_type": "code",
   "execution_count": null,
   "id": "ceb63b47",
   "metadata": {},
   "outputs": [],
   "source": [
    "# rsi_summary(df_observe = df_1_day, \n",
    "#             threshold = 50, \n",
    "#             timeframe = '1D', \n",
    "#             direction_after_hit_threshold = 'DOWN',\n",
    "#             show_distribution = False,\n",
    "#             RSI_params = 14)"
   ]
  },
  {
   "cell_type": "code",
   "execution_count": null,
   "id": "e8127b21",
   "metadata": {},
   "outputs": [],
   "source": [
    "# rsi_summary(df_observe = df_1_day, \n",
    "#             threshold = 50, \n",
    "#             timeframe = '1D', \n",
    "#             direction_after_hit_threshold = 'UP',\n",
    "#             show_distribution = False,\n",
    "#             RSI_params = 5)"
   ]
  },
  {
   "cell_type": "code",
   "execution_count": null,
   "id": "24f27beb",
   "metadata": {},
   "outputs": [],
   "source": [
    "# rsi_summary(df_observe = df_1_day, \n",
    "#             threshold = 50, \n",
    "#             timeframe = '1D', \n",
    "#             direction_after_hit_threshold = 'DOWN',\n",
    "#             show_distribution = False,\n",
    "#             RSI_params = 5)"
   ]
  },
  {
   "cell_type": "markdown",
   "id": "65df6546",
   "metadata": {},
   "source": [
    "#### RSI = 70\n",
    "\n",
    "* Reversion is weak for daily RSI, num up candle when RSI reverse is skewed to the right, hard to use with daily gold"
   ]
  },
  {
   "cell_type": "code",
   "execution_count": null,
   "id": "e4d0698a",
   "metadata": {},
   "outputs": [],
   "source": [
    "# rsi_summary(df_observe = df_1_day, \n",
    "#             threshold = 70, \n",
    "#             timeframe = '1D', \n",
    "#             direction_after_hit_threshold = 'DOWN',\n",
    "#             show_distribution = False,\n",
    "#             RSI_params = 14)"
   ]
  },
  {
   "cell_type": "code",
   "execution_count": null,
   "id": "48c4c26b",
   "metadata": {},
   "outputs": [],
   "source": [
    "# rsi_summary(df_observe = df_1_day, \n",
    "#             threshold = 70, \n",
    "#             timeframe = '1D', \n",
    "#             direction_after_hit_threshold = 'DOWN',\n",
    "#             show_distribution = False,\n",
    "#             RSI_params = 5)"
   ]
  },
  {
   "cell_type": "markdown",
   "id": "2a588e84",
   "metadata": {},
   "source": [
    "### 4-hour timeframe"
   ]
  },
  {
   "cell_type": "markdown",
   "id": "4147aacc",
   "metadata": {},
   "source": [
    "#### RSI = 30"
   ]
  },
  {
   "cell_type": "code",
   "execution_count": null,
   "id": "a684694a",
   "metadata": {},
   "outputs": [],
   "source": [
    "# rsi_summary(df_observe = df_4_hour, \n",
    "#             threshold = 30, \n",
    "#             timeframe = '4H', \n",
    "#             direction_after_hit_threshold = 'UP',\n",
    "#             show_distribution = False,\n",
    "#             RSI_params = 14)"
   ]
  },
  {
   "cell_type": "code",
   "execution_count": null,
   "id": "df11c06b",
   "metadata": {},
   "outputs": [],
   "source": [
    "# rsi_summary(df_observe = df_4_hour, \n",
    "#             threshold = 30, \n",
    "#             timeframe = '4H', \n",
    "#             direction_after_hit_threshold = 'UP',\n",
    "#             show_distribution = False,\n",
    "#             RSI_params = 5)"
   ]
  },
  {
   "cell_type": "code",
   "execution_count": null,
   "id": "bf9e38d0",
   "metadata": {},
   "outputs": [],
   "source": [
    "# rsi_summary(df_observe = df_4_hour[df_4_hour.index >= datetime(2024, 1, 1)], \n",
    "#             threshold = 30, \n",
    "#             timeframe = '4H', \n",
    "#             direction_after_hit_threshold = 'UP',\n",
    "#             show_distribution = False,\n",
    "#             RSI_params = 14)"
   ]
  },
  {
   "cell_type": "code",
   "execution_count": null,
   "id": "068e0f82",
   "metadata": {},
   "outputs": [],
   "source": [
    "# rsi_summary(df_observe = df_4_hour[df_4_hour.index >= datetime(2024, 1, 1)], \n",
    "#             threshold = 30, \n",
    "#             timeframe = '4H', \n",
    "#             direction_after_hit_threshold = 'UP',\n",
    "#             show_distribution = False,\n",
    "#             RSI_params = 5)"
   ]
  },
  {
   "cell_type": "markdown",
   "id": "16a01f69",
   "metadata": {},
   "source": [
    "#### RSI = 70"
   ]
  },
  {
   "cell_type": "code",
   "execution_count": null,
   "id": "ce8526a2",
   "metadata": {},
   "outputs": [],
   "source": [
    "# rsi_summary(df_observe = df_4_hour, \n",
    "#             threshold = 70, \n",
    "#             timeframe = '4H', \n",
    "#             direction_after_hit_threshold = 'DOWN',\n",
    "#             show_distribution = False,\n",
    "#             RSI_params = 14)"
   ]
  },
  {
   "cell_type": "code",
   "execution_count": null,
   "id": "a0a9d66c",
   "metadata": {},
   "outputs": [],
   "source": [
    "# rsi_summary(df_observe = df_4_hour, \n",
    "#             threshold = 70, \n",
    "#             timeframe = '4H', \n",
    "#             direction_after_hit_threshold = 'DOWN',\n",
    "#             show_distribution = False,\n",
    "#             RSI_params = 5)"
   ]
  },
  {
   "cell_type": "code",
   "execution_count": null,
   "id": "2a88dc9d",
   "metadata": {},
   "outputs": [],
   "source": [
    "# rsi_summary(df_observe = df_4_hour[df_4_hour.index >= datetime(2024, 1, 1)], \n",
    "#             threshold = 70, \n",
    "#             timeframe = '4H', \n",
    "#             direction_after_hit_threshold = 'DOWN',\n",
    "#             show_distribution = False,\n",
    "#             RSI_params = 14)"
   ]
  },
  {
   "cell_type": "code",
   "execution_count": null,
   "id": "8c154556",
   "metadata": {},
   "outputs": [],
   "source": [
    "# rsi_summary(df_observe = df_4_hour[df_4_hour.index >= datetime(2024, 1, 1)], \n",
    "#             threshold = 70, \n",
    "#             timeframe = '4H', \n",
    "#             direction_after_hit_threshold = 'DOWN',\n",
    "#             show_distribution = False,\n",
    "#             RSI_params = 5)"
   ]
  },
  {
   "cell_type": "markdown",
   "id": "42296de3",
   "metadata": {},
   "source": [
    "### 15-min timeframe"
   ]
  },
  {
   "cell_type": "markdown",
   "id": "fd2eabea",
   "metadata": {},
   "source": [
    "#### RSI = 30"
   ]
  },
  {
   "cell_type": "code",
   "execution_count": null,
   "id": "2acc36de",
   "metadata": {},
   "outputs": [],
   "source": [
    "# rsi_summary(df_observe = df_15_min[df_15_min.index >= datetime(2024, 1, 1)], \n",
    "#             threshold = 30, \n",
    "#             timeframe = '15min', \n",
    "#             direction_after_hit_threshold = 'UP',\n",
    "#             show_distribution = False,\n",
    "#             RSI_params = 5)"
   ]
  },
  {
   "cell_type": "markdown",
   "id": "43694ab5",
   "metadata": {},
   "source": [
    "#### RSI = 70"
   ]
  },
  {
   "cell_type": "code",
   "execution_count": null,
   "id": "8da339e9",
   "metadata": {},
   "outputs": [],
   "source": [
    "# rsi_summary(df_observe = df_15_min[df_15_min.index >= datetime(2024, 1, 1)], \n",
    "#             threshold = 70, \n",
    "#             timeframe = '15min', \n",
    "#             direction_after_hit_threshold = 'DOWN',\n",
    "#             show_distribution = False,\n",
    "#             RSI_params = 5)"
   ]
  },
  {
   "cell_type": "markdown",
   "id": "fea7f625",
   "metadata": {},
   "source": [
    "## Moving average\n",
    "\n",
    "----------------------------------------\n",
    "* Price >= MA --> Rise, Price <= MA --> drop\n",
    "* Low MA cut and go above high MA --> rise, High MA go below low MA --> drop\n",
    "* Act as support, resistance\n",
    "* Normal parameter: 50, 200, exponential"
   ]
  },
  {
   "cell_type": "markdown",
   "id": "663fd33f",
   "metadata": {},
   "source": [
    "### 4-hour time frame"
   ]
  },
  {
   "cell_type": "code",
   "execution_count": null,
   "id": "1e7bd3ec",
   "metadata": {},
   "outputs": [],
   "source": [
    "# ema_summary(df_observe = df_4_hour.copy(), EMA_params = [10, 50, 200], timeframe = '4H')\n"
   ]
  },
  {
   "cell_type": "markdown",
   "id": "0e4c188b",
   "metadata": {},
   "source": [
    "### 15-min time frame"
   ]
  },
  {
   "cell_type": "code",
   "execution_count": null,
   "id": "1d20e7af",
   "metadata": {},
   "outputs": [],
   "source": [
    "# ema_summary(df_observe = df_15_min.copy(), EMA_params = [10, 50, 200], timeframe = '15min')\n"
   ]
  },
  {
   "cell_type": "markdown",
   "id": "32a8195a",
   "metadata": {},
   "source": [
    "## Bollinger band\n",
    "\n",
    "\n",
    "* BB expands --> Continue big trend; BB narrows --> Accumulation\n",
    "* Touch or out from upper/ lower band --> reverse/ continue/ accumulation and continue/ accumulation and reverse? <-> Act as support and resistance\n",
    "* Normal parameter: (50, 2)\n"
   ]
  },
  {
   "cell_type": "code",
   "execution_count": null,
   "id": "c718f8d7",
   "metadata": {},
   "outputs": [],
   "source": [
    "# bollingerband_summary(df_observe = df_15_min.copy(), timeframe = '15min', mean = 20, std = 2)"
   ]
  }
 ],
 "metadata": {
  "kernelspec": {
   "display_name": "Python 3",
   "language": "python",
   "name": "python3"
  },
  "language_info": {
   "codemirror_mode": {
    "name": "ipython",
    "version": 3
   },
   "file_extension": ".py",
   "mimetype": "text/x-python",
   "name": "python",
   "nbconvert_exporter": "python",
   "pygments_lexer": "ipython3",
   "version": "3.8.10"
  }
 },
 "nbformat": 4,
 "nbformat_minor": 5
}
